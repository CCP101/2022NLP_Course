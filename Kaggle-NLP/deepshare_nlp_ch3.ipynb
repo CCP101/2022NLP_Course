{
 "cells": [
  {
   "cell_type": "code",
   "execution_count": 2,
   "metadata": {
    "ExecuteTime": {
     "end_time": "2020-08-11T06:27:11.510671Z",
     "start_time": "2020-08-11T06:27:01.821824Z"
    }
   },
   "outputs": [
    {
     "name": "stdout",
     "output_type": "stream",
     "text": [
      "Populating the interactive namespace from numpy and matplotlib\n"
     ]
    }
   ],
   "source": [
    "from sklearn.feature_extraction.text import TfidfVectorizer\n",
    "from sklearn.linear_model import RidgeClassifier, LogisticRegression\n",
    "from lightgbm import LGBMClassifier\n",
    "import lightgbm as lgb\n",
    "import pandas as pd\n",
    "import numpy as np\n",
    "from sklearn.metrics import f1_score\n",
    "\n",
    "%pylab inline\n",
    "\n",
    "train_df = pd.read_csv('D:/WorkSpace/VisualStudioCode/2022NLP_Course/train_set.csv', sep='\\t', nrows=None)\n",
    "test_df = pd.read_csv('D:/WorkSpace/VisualStudioCode/2022NLP_Course/test_a.csv', sep='\\t', nrows=None)"
   ]
  },
  {
   "cell_type": "markdown",
   "metadata": {},
   "source": [
    "# 数据划分"
   ]
  },
  {
   "cell_type": "code",
   "execution_count": 3,
   "metadata": {
    "ExecuteTime": {
     "end_time": "2020-08-11T03:54:51.475636Z",
     "start_time": "2020-08-11T03:54:51.463000Z"
    }
   },
   "outputs": [],
   "source": [
    "# hold-out\n",
    "from sklearn.model_selection import train_test_split\n",
    "\n",
    "# K折交叉验证\n",
    "from sklearn.model_selection import KFold\n",
    "from sklearn.model_selection import RepeatedKFold\n",
    "\n",
    "# K折分布保持交叉验证\n",
    "from sklearn.model_selection import StratifiedKFold\n",
    "from sklearn.model_selection import RepeatedStratifiedKFold\n",
    "\n",
    "# 时间序列划分方法\n",
    "from sklearn.model_selection import TimeSeriesSplit\n",
    "\n",
    "# booststrap 采样\n",
    "from sklearn.utils import resample"
   ]
  },
  {
   "cell_type": "code",
   "execution_count": 4,
   "metadata": {
    "ExecuteTime": {
     "end_time": "2020-08-11T03:54:40.781095Z",
     "start_time": "2020-08-11T03:54:40.767854Z"
    }
   },
   "outputs": [
    {
     "name": "stdout",
     "output_type": "stream",
     "text": [
      "[[0. 0. 0. 0. 0.]\n",
      " [0. 0. 0. 0. 0.]\n",
      " [0. 0. 0. 0. 0.]\n",
      " [0. 0. 0. 0. 0.]\n",
      " [0. 0. 0. 0. 0.]\n",
      " [0. 0. 0. 0. 0.]\n",
      " [0. 0. 0. 0. 0.]\n",
      " [0. 0. 0. 0. 0.]\n",
      " [0. 0. 0. 0. 0.]\n",
      " [0. 0. 0. 0. 0.]\n",
      " [0. 0. 0. 0. 0.]\n",
      " [0. 0. 0. 0. 0.]\n",
      " [0. 0. 0. 0. 0.]\n",
      " [0. 0. 0. 0. 0.]\n",
      " [0. 0. 0. 0. 0.]\n",
      " [0. 0. 0. 0. 0.]\n",
      " [0. 0. 0. 0. 0.]\n",
      " [0. 0. 0. 0. 0.]\n",
      " [0. 0. 0. 0. 0.]\n",
      " [0. 0. 0. 0. 0.]] [1 2 3 4 1 2 3 4 1 2 3 4 1 2 3 4 1 2 3 4]\n"
     ]
    }
   ],
   "source": [
    "X = np.zeros((20, 5))\n",
    "Y = np.array([1, 2, 3, 4] * 5)\n",
    "print(X, Y)\n",
    "\n",
    "# X = np.zeros((20, 5))\n",
    "# Y = np.array([1]*5 + [2]*5 + [3]*5 + [4]*5)\n",
    "# print(X, Y)"
   ]
  },
  {
   "cell_type": "code",
   "execution_count": 5,
   "metadata": {
    "ExecuteTime": {
     "end_time": "2020-08-11T03:54:54.047780Z",
     "start_time": "2020-08-11T03:54:54.034856Z"
    }
   },
   "outputs": [
    {
     "name": "stdout",
     "output_type": "stream",
     "text": [
      "[2 1 4 3 4 1 2 2 4 3 3 1 1 3 4 2] [4 3 2 1]\n"
     ]
    }
   ],
   "source": [
    "# 直接按照比例拆分\n",
    "# train_X, val_X, train_y, val_y = train_test_split(X, Y, test_size = 0.2)\n",
    "# print(train_y, val_y)\n",
    "\n",
    "# 按照比例 & 标签分布划分\n",
    "train_X, val_X, train_y, val_y = train_test_split(X, Y, test_size = 0.2, stratify=Y)\n",
    "print(train_y, val_y)"
   ]
  },
  {
   "cell_type": "code",
   "execution_count": 6,
   "metadata": {
    "ExecuteTime": {
     "end_time": "2020-08-11T04:03:34.382685Z",
     "start_time": "2020-08-11T04:03:34.363338Z"
    }
   },
   "outputs": [
    {
     "name": "stdout",
     "output_type": "stream",
     "text": [
      "[ 4  5  6  7  8  9 10 11 12 13 14 15 16 17 18 19] [0 1 2 3]\n",
      "Label [1 2 3 4]\n",
      "\n",
      "[ 0  1  2  3  8  9 10 11 12 13 14 15 16 17 18 19] [4 5 6 7]\n",
      "Label [1 2 3 4]\n",
      "\n",
      "[ 0  1  2  3  4  5  6  7 12 13 14 15 16 17 18 19] [ 8  9 10 11]\n",
      "Label [1 2 3 4]\n",
      "\n",
      "[ 0  1  2  3  4  5  6  7  8  9 10 11 16 17 18 19] [12 13 14 15]\n",
      "Label [1 2 3 4]\n",
      "\n",
      "[ 0  1  2  3  4  5  6  7  8  9 10 11 12 13 14 15] [16 17 18 19]\n",
      "Label [1 2 3 4]\n",
      "\n"
     ]
    }
   ],
   "source": [
    "kf = KFold(n_splits=5)\n",
    "for train_idx, test_idx, in kf.split(X, Y):\n",
    "    print(train_idx, test_idx)\n",
    "    print('Label', Y[test_idx])\n",
    "    print('')"
   ]
  },
  {
   "cell_type": "code",
   "execution_count": 7,
   "metadata": {
    "ExecuteTime": {
     "end_time": "2020-08-11T04:03:44.582693Z",
     "start_time": "2020-08-11T04:03:44.565015Z"
    }
   },
   "outputs": [
    {
     "name": "stdout",
     "output_type": "stream",
     "text": [
      "[ 4  5  6  7  8  9 10 11 12 13 14 15 16 17 18 19] [0 1 2 3]\n",
      "Label [1 2 3 4]\n",
      "\n",
      "[ 0  1  2  3  8  9 10 11 12 13 14 15 16 17 18 19] [4 5 6 7]\n",
      "Label [1 2 3 4]\n",
      "\n",
      "[ 0  1  2  3  4  5  6  7 12 13 14 15 16 17 18 19] [ 8  9 10 11]\n",
      "Label [1 2 3 4]\n",
      "\n",
      "[ 0  1  2  3  4  5  6  7  8  9 10 11 16 17 18 19] [12 13 14 15]\n",
      "Label [1 2 3 4]\n",
      "\n",
      "[ 0  1  2  3  4  5  6  7  8  9 10 11 12 13 14 15] [16 17 18 19]\n",
      "Label [1 2 3 4]\n",
      "\n"
     ]
    }
   ],
   "source": [
    "kf = StratifiedKFold(n_splits=5)\n",
    "for train_idx, test_idx, in kf.split(X, Y):\n",
    "    print(train_idx, test_idx)\n",
    "    print('Label', Y[test_idx])\n",
    "    print('')"
   ]
  },
  {
   "cell_type": "code",
   "execution_count": 8,
   "metadata": {
    "ExecuteTime": {
     "end_time": "2020-08-11T04:04:06.622808Z",
     "start_time": "2020-08-11T04:04:06.607414Z"
    }
   },
   "outputs": [
    {
     "name": "stdout",
     "output_type": "stream",
     "text": [
      "[0 1 2 3 4] [5 6 7]\n",
      "Label [2 3 4]\n",
      "\n",
      "[0 1 2 3 4 5 6 7] [ 8  9 10]\n",
      "Label [1 2 3]\n",
      "\n",
      "[ 0  1  2  3  4  5  6  7  8  9 10] [11 12 13]\n",
      "Label [4 1 2]\n",
      "\n",
      "[ 0  1  2  3  4  5  6  7  8  9 10 11 12 13] [14 15 16]\n",
      "Label [3 4 1]\n",
      "\n",
      "[ 0  1  2  3  4  5  6  7  8  9 10 11 12 13 14 15 16] [17 18 19]\n",
      "Label [2 3 4]\n",
      "\n"
     ]
    }
   ],
   "source": [
    "kf = TimeSeriesSplit(n_splits=5)\n",
    "for train_idx, test_idx, in kf.split(X, Y):\n",
    "    print(train_idx, test_idx)\n",
    "    print('Label', Y[test_idx])\n",
    "    print('')"
   ]
  },
  {
   "cell_type": "code",
   "execution_count": 9,
   "metadata": {
    "ExecuteTime": {
     "end_time": "2020-08-11T04:03:53.717734Z",
     "start_time": "2020-08-11T04:03:53.698958Z"
    }
   },
   "outputs": [
    {
     "name": "stdout",
     "output_type": "stream",
     "text": [
      "[2 4 2 1 2 3 4 3 1 1 4 3 4 3 2 3] [3 4 3 4]\n"
     ]
    }
   ],
   "source": [
    "train_X, train_Y = resample(X, Y, n_samples=16)\n",
    "val_X, val_Y = resample(X, Y, n_samples=4)\n",
    "print(train_Y, val_Y)"
   ]
  },
  {
   "cell_type": "markdown",
   "metadata": {},
   "source": [
    "# fasttext"
   ]
  },
  {
   "cell_type": "code",
   "execution_count": 9,
   "metadata": {
    "ExecuteTime": {
     "end_time": "2020-08-11T04:07:38.582141Z",
     "start_time": "2020-08-11T04:07:19.894796Z"
    }
   },
   "outputs": [],
   "source": [
    "train_df = pd.read_csv('D:/WorkSpace/VisualStudioCode/2022NLP_Course/train_set.csv', sep='\\t', nrows=None)\n",
    "train_df['label_ft'] = '__label__' + train_df['label'].astype(str)\n",
    "train_df[['text','label_ft']].iloc[:-5000].to_csv('train.csv', index=None, header=None, sep='\\t')\n",
    "train_df[['text','label_ft']].iloc[-5000:].to_csv('valid.csv', index=None, header=None, sep='\\t')"
   ]
  },
  {
   "cell_type": "code",
   "execution_count": 11,
   "metadata": {
    "ExecuteTime": {
     "end_time": "2020-08-11T04:29:00.290826Z",
     "start_time": "2020-08-11T04:27:45.047309Z"
    }
   },
   "outputs": [],
   "source": [
    "import fasttext\n",
    "model = fasttext.train_supervised(input='train.csv',\n",
    "                                autotuneValidationFile='valid.csv', \n",
    "                                autotuneDuration=5)"
   ]
  },
  {
   "cell_type": "code",
   "execution_count": 12,
   "metadata": {
    "ExecuteTime": {
     "end_time": "2020-08-11T04:29:04.864669Z",
     "start_time": "2020-08-11T04:29:03.810986Z"
    }
   },
   "outputs": [
    {
     "data": {
      "text/plain": [
       "(5000, 0.9236, 0.9236)"
      ]
     },
     "execution_count": 12,
     "metadata": {},
     "output_type": "execute_result"
    }
   ],
   "source": [
    "model.test(\"valid.csv\")"
   ]
  },
  {
   "cell_type": "markdown",
   "metadata": {},
   "source": [
    "# 对抗验证"
   ]
  },
  {
   "cell_type": "code",
   "execution_count": 13,
   "metadata": {
    "ExecuteTime": {
     "end_time": "2020-08-11T06:23:58.491856Z",
     "start_time": "2020-08-11T06:23:28.860201Z"
    },
    "scrolled": true
   },
   "outputs": [],
   "source": [
    "from sklearn.feature_extraction.text import TfidfVectorizer\n",
    "train_df = pd.read_csv('D:/WorkSpace/VisualStudioCode/2022NLP_Course/train_set.csv', sep='\\t', nrows=5000)\n",
    "test_df = pd.read_csv('D:/WorkSpace/VisualStudioCode/2022NLP_Course/test_a.csv', sep='\\t', nrows=5000)\n",
    "\n",
    "tfidf = TfidfVectorizer(ngram_range=(1, 2), max_features=500).fit(train_df['text'].iloc[:].values)\n",
    "train_tfidf = tfidf.transform(train_df['text'].iloc[:].values)\n",
    "test_tfidf = tfidf.transform(test_df['text'].iloc[:].values)"
   ]
  },
  {
   "cell_type": "code",
   "execution_count": 14,
   "metadata": {
    "ExecuteTime": {
     "end_time": "2020-08-11T06:25:26.443927Z",
     "start_time": "2020-08-11T06:25:26.413353Z"
    }
   },
   "outputs": [],
   "source": [
    "train_test = np.vstack([train_tfidf.toarray(), test_tfidf.toarray()])"
   ]
  },
  {
   "cell_type": "code",
   "execution_count": 18,
   "metadata": {
    "ExecuteTime": {
     "end_time": "2020-08-11T06:37:24.783159Z",
     "start_time": "2020-08-11T06:37:22.217103Z"
    },
    "scrolled": true
   },
   "outputs": [
    {
     "name": "stdout",
     "output_type": "stream",
     "text": [
      "[LightGBM] [Warning] Auto-choosing row-wise multi-threading, the overhead of testing was 0.008581 seconds.\n",
      "You can set `force_row_wise=true` to remove the overhead.\n",
      "And if memory is not enough, you can set `force_col_wise=true`.\n",
      "[LightGBM] [Info] Total Bins 5000\n",
      "[LightGBM] [Info] Number of data points in the train set: 6666, number of used features: 500\n",
      "[LightGBM] [Warning] Auto-choosing row-wise multi-threading, the overhead of testing was 0.009460 seconds.\n",
      "You can set `force_row_wise=true` to remove the overhead.\n",
      "And if memory is not enough, you can set `force_col_wise=true`.\n",
      "[LightGBM] [Info] Total Bins 5000\n",
      "[LightGBM] [Info] Number of data points in the train set: 6667, number of used features: 500\n",
      "[LightGBM] [Warning] Auto-choosing col-wise multi-threading, the overhead of testing was 0.014036 seconds.\n",
      "You can set `force_col_wise=true` to remove the overhead.\n",
      "[LightGBM] [Info] Total Bins 5000\n",
      "[LightGBM] [Info] Number of data points in the train set: 6667, number of used features: 500\n",
      "[LightGBM] [Info] Start training from score 0.500000\n",
      "[LightGBM] [Info] Start training from score 0.499925\n",
      "[LightGBM] [Info] Start training from score 0.500075\n"
     ]
    },
    {
     "name": "stderr",
     "output_type": "stream",
     "text": [
      "D:\\RuntimeEnvironment\\Anaconda\\envs\\pt\\lib\\site-packages\\lightgbm\\engine.py:620: UserWarning: 'verbose_eval' argument is deprecated and will be removed in a future release of LightGBM. Pass 'log_evaluation()' callback via 'callbacks' argument instead.\n",
      "  _log_warning(\"'verbose_eval' argument is deprecated and will be removed in a future release of LightGBM. \"\n"
     ]
    },
    {
     "name": "stdout",
     "output_type": "stream",
     "text": [
      "[20]\tcv_agg's auc: 0.491052 + 0.00882533\n",
      "[40]\tcv_agg's auc: 0.491945 + 0.0116601\n",
      "[60]\tcv_agg's auc: 0.493146 + 0.0105694\n",
      "[80]\tcv_agg's auc: 0.494341 + 0.00770488\n",
      "[100]\tcv_agg's auc: 0.495576 + 0.00556407\n"
     ]
    }
   ],
   "source": [
    "lgb_data = lgb.Dataset(train_test, label=np.array([1]*5000+[0]*5000))\n",
    "\n",
    "params = {}\n",
    "params['max_bin'] = 10\n",
    "params['learning_rate'] = 0.01\n",
    "params['boosting_type'] = 'gbdt'\n",
    "params['metric'] = 'auc'\n",
    "\n",
    "result = lgb.cv(params, lgb_data, num_boost_round=100, nfold=3, verbose_eval=20)"
   ]
  },
  {
   "cell_type": "code",
   "execution_count": 16,
   "metadata": {
    "ExecuteTime": {
     "end_time": "2020-08-11T06:37:26.449178Z",
     "start_time": "2020-08-11T06:37:26.421345Z"
    },
    "scrolled": true
   },
   "outputs": [
    {
     "data": {
      "text/html": [
       "<div>\n",
       "<style scoped>\n",
       "    .dataframe tbody tr th:only-of-type {\n",
       "        vertical-align: middle;\n",
       "    }\n",
       "\n",
       "    .dataframe tbody tr th {\n",
       "        vertical-align: top;\n",
       "    }\n",
       "\n",
       "    .dataframe thead th {\n",
       "        text-align: right;\n",
       "    }\n",
       "</style>\n",
       "<table border=\"1\" class=\"dataframe\">\n",
       "  <thead>\n",
       "    <tr style=\"text-align: right;\">\n",
       "      <th></th>\n",
       "      <th>auc-mean</th>\n",
       "      <th>auc-stdv</th>\n",
       "    </tr>\n",
       "  </thead>\n",
       "  <tbody>\n",
       "    <tr>\n",
       "      <th>0</th>\n",
       "      <td>0.491807</td>\n",
       "      <td>0.004728</td>\n",
       "    </tr>\n",
       "    <tr>\n",
       "      <th>1</th>\n",
       "      <td>0.489903</td>\n",
       "      <td>0.001308</td>\n",
       "    </tr>\n",
       "    <tr>\n",
       "      <th>2</th>\n",
       "      <td>0.493536</td>\n",
       "      <td>0.001168</td>\n",
       "    </tr>\n",
       "    <tr>\n",
       "      <th>3</th>\n",
       "      <td>0.493294</td>\n",
       "      <td>0.001798</td>\n",
       "    </tr>\n",
       "    <tr>\n",
       "      <th>4</th>\n",
       "      <td>0.493753</td>\n",
       "      <td>0.002040</td>\n",
       "    </tr>\n",
       "    <tr>\n",
       "      <th>...</th>\n",
       "      <td>...</td>\n",
       "      <td>...</td>\n",
       "    </tr>\n",
       "    <tr>\n",
       "      <th>95</th>\n",
       "      <td>0.495292</td>\n",
       "      <td>0.005919</td>\n",
       "    </tr>\n",
       "    <tr>\n",
       "      <th>96</th>\n",
       "      <td>0.495490</td>\n",
       "      <td>0.005592</td>\n",
       "    </tr>\n",
       "    <tr>\n",
       "      <th>97</th>\n",
       "      <td>0.495188</td>\n",
       "      <td>0.005741</td>\n",
       "    </tr>\n",
       "    <tr>\n",
       "      <th>98</th>\n",
       "      <td>0.495539</td>\n",
       "      <td>0.005762</td>\n",
       "    </tr>\n",
       "    <tr>\n",
       "      <th>99</th>\n",
       "      <td>0.495576</td>\n",
       "      <td>0.005564</td>\n",
       "    </tr>\n",
       "  </tbody>\n",
       "</table>\n",
       "<p>100 rows × 2 columns</p>\n",
       "</div>"
      ],
      "text/plain": [
       "    auc-mean  auc-stdv\n",
       "0   0.491807  0.004728\n",
       "1   0.489903  0.001308\n",
       "2   0.493536  0.001168\n",
       "3   0.493294  0.001798\n",
       "4   0.493753  0.002040\n",
       "..       ...       ...\n",
       "95  0.495292  0.005919\n",
       "96  0.495490  0.005592\n",
       "97  0.495188  0.005741\n",
       "98  0.495539  0.005762\n",
       "99  0.495576  0.005564\n",
       "\n",
       "[100 rows x 2 columns]"
      ]
     },
     "execution_count": 16,
     "metadata": {},
     "output_type": "execute_result"
    }
   ],
   "source": [
    "pd.DataFrame(result)"
   ]
  }
 ],
 "metadata": {
  "interpreter": {
   "hash": "5635370a5d8675c833448a38beea9abeed7a0fccb77254f85c726268e587358d"
  },
  "kernelspec": {
   "display_name": "Python 2",
   "language": "python",
   "name": "python3"
  },
  "language_info": {
   "codemirror_mode": {
    "name": "ipython",
    "version": 3
   },
   "file_extension": ".py",
   "mimetype": "text/x-python",
   "name": "python",
   "nbconvert_exporter": "python",
   "pygments_lexer": "ipython3",
   "version": "3.6.13"
  },
  "toc": {
   "base_numbering": 1,
   "nav_menu": {},
   "number_sections": true,
   "sideBar": true,
   "skip_h1_title": false,
   "title_cell": "Table of Contents",
   "title_sidebar": "Contents",
   "toc_cell": false,
   "toc_position": {},
   "toc_section_display": true,
   "toc_window_display": false
  }
 },
 "nbformat": 4,
 "nbformat_minor": 4
}