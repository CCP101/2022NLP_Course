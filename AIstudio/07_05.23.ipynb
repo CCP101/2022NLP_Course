{
 "cells": [
  {
   "cell_type": "code",
   "execution_count": 24,
   "metadata": {
    "collapsed": false,
    "vscode": {
     "languageId": "bat"
    }
   },
   "outputs": [
    {
     "name": "stdout",
     "output_type": "stream",
     "text": [
      "data80084  eval.txt  ICL  readme.json  train.txt\r\n"
     ]
    }
   ],
   "source": [
    "# 查看当前挂载的数据集目录, 该目录下的变更重启环境后会自动还原\n",
    "# View dataset directory. \n",
    "# This directory will be recovered automatically after resetting environment. \n",
    "!ls /home/aistudio/data"
   ]
  },
  {
   "cell_type": "code",
   "execution_count": 25,
   "metadata": {
    "collapsed": false,
    "vscode": {
     "languageId": "bat"
    }
   },
   "outputs": [
    {
     "name": "stdout",
     "output_type": "stream",
     "text": [
      "checkpoints\r\n"
     ]
    }
   ],
   "source": [
    "# 查看工作区文件, 该目录下的变更将会持久保存. 请及时清理不必要的文件, 避免加载过慢.\n",
    "# View personal work directory. \n",
    "# All changes under this directory will be kept even after reset. \n",
    "# Please clean unnecessary files in time to speed up environment loading. \n",
    "!ls /home/aistudio/work"
   ]
  },
  {
   "cell_type": "code",
   "execution_count": 26,
   "metadata": {
    "collapsed": false,
    "vscode": {
     "languageId": "bat"
    }
   },
   "outputs": [
    {
     "name": "stdout",
     "output_type": "stream",
     "text": [
      "mkdir: cannot create directory ‘/home/aistudio/external-libraries’: File exists\n",
      "Looking in indexes: https://pypi.tuna.tsinghua.edu.cn/simple\n",
      "Collecting beautifulsoup4\n",
      "  Using cached https://pypi.tuna.tsinghua.edu.cn/packages/9c/d8/909c4089dbe4ade9f9705f143c9f13f065049a9d5e7d34c828aefdd0a97c/beautifulsoup4-4.11.1-py3-none-any.whl (128 kB)\n",
      "Collecting soupsieve>1.2\n",
      "  Using cached https://pypi.tuna.tsinghua.edu.cn/packages/16/e3/4ad79882b92617e3a4a0df1960d6bce08edfb637737ac5c3f3ba29022e25/soupsieve-2.3.2.post1-py3-none-any.whl (37 kB)\n",
      "Installing collected packages: soupsieve, beautifulsoup4\n",
      "Successfully installed beautifulsoup4-4.11.1 soupsieve-2.3.2.post1\n",
      "\u001b[33mWARNING: Target directory /home/aistudio/external-libraries/soupsieve already exists. Specify --upgrade to force replacement.\u001b[0m\u001b[33m\n",
      "\u001b[0m\u001b[33mWARNING: Target directory /home/aistudio/external-libraries/beautifulsoup4-4.11.1.dist-info already exists. Specify --upgrade to force replacement.\u001b[0m\u001b[33m\n",
      "\u001b[0m\u001b[33mWARNING: Target directory /home/aistudio/external-libraries/soupsieve-2.3.2.post1.dist-info already exists. Specify --upgrade to force replacement.\u001b[0m\u001b[33m\n",
      "\u001b[0m\u001b[33mWARNING: Target directory /home/aistudio/external-libraries/bs4 already exists. Specify --upgrade to force replacement.\u001b[0m\u001b[33m\n",
      "\u001b[0m\u001b[33mWARNING: You are using pip version 22.0.4; however, version 22.1.1 is available.\n",
      "You should consider upgrading via the '/opt/conda/envs/python35-paddle120-env/bin/python -m pip install --upgrade pip' command.\u001b[0m\u001b[33m\n",
      "\u001b[0m"
     ]
    }
   ],
   "source": [
    "# 如果需要进行持久化安装, 需要使用持久化路径, 如下方代码示例:\n",
    "# If a persistence installation is required, \n",
    "# you need to use the persistence path as the following: \n",
    "!mkdir /home/aistudio/external-libraries\n",
    "!pip install beautifulsoup4 -t /home/aistudio/external-libraries"
   ]
  },
  {
   "cell_type": "code",
   "execution_count": 27,
   "metadata": {
    "collapsed": false
   },
   "outputs": [],
   "source": [
    "# 同时添加如下代码, 这样每次环境(kernel)启动的时候只要运行下方代码即可: \n",
    "# Also add the following code, \n",
    "# so that every time the environment (kernel) starts, \n",
    "# just run the following code: \n",
    "import sys \n",
    "sys.path.append('/home/aistudio/external-libraries')"
   ]
  },
  {
   "cell_type": "markdown",
   "metadata": {
    "collapsed": false
   },
   "source": [
    "请点击[此处](https://ai.baidu.com/docs#/AIStudio_Project_Notebook/a38e5576)查看本环境基本用法.  <br>\n",
    "Please click [here ](https://ai.baidu.com/docs#/AIStudio_Project_Notebook/a38e5576) for more detailed instructions. "
   ]
  },
  {
   "cell_type": "code",
   "execution_count": 28,
   "metadata": {
    "collapsed": false
   },
   "outputs": [],
   "source": [
    "\n",
    "import os\n",
    "import zipfile\n",
    "import random\n",
    "import json\n",
    "import paddle\n",
    "import sys\n",
    "import numpy as np\n",
    "from PIL import Image\n",
    "import matplotlib.pyplot as plt\n",
    "from paddle.io import Dataset\n"
   ]
  },
  {
   "cell_type": "code",
   "execution_count": 29,
   "metadata": {
    "collapsed": false
   },
   "outputs": [],
   "source": [
    "'''\n",
    "参数配置\n",
    "'''\n",
    "train_parameters = {\n",
    "    \"input_size\": [3, 224, 224],#输入图片的shape\n",
    "    \"class_dim\": -1,#分类数\n",
    "    \"src_path\":\"/home/aistudio/data/data80084/ICL Leaf dataset.zip\",#原始数据集路径\n",
    "    \"target_path\":\"/home/aistudio/data/ICL/\",#要解压的路径\n",
    "    \"train_list_path\": \"/home/aistudio/data/train.txt\",#train.txt路径\n",
    "    \"eval_list_path\": \"/home/aistudio/data/eval.txt\",#eval.txt路径\n",
    "    \"readme_path\": \"/home/aistudio/data/readme.json\",#readme.json路径\n",
    "    \"label_dict\":{},#标签字典\n",
    "    \"num_epochs\": 25,#训练轮数\n",
    "    \"train_batch_size\": 16,#训练时每个批次的大小\n",
    "    \"skip_steps\": 10,\n",
    "    \"save_steps\": 1000, \n",
    "    \"learning_strategy\": {#优化函数相关的配置\n",
    "        \"lr\": 0.0001#超参数学习率\n",
    "    },\n",
    "    \"checkpoints\": \"/home/aistudio/work/checkpoints\"#保存的路径\n",
    "\n",
    "}"
   ]
  },
  {
   "cell_type": "code",
   "execution_count": 30,
   "metadata": {
    "collapsed": false
   },
   "outputs": [],
   "source": [
    "def unzip_data(src_path,target_path):\n",
    "    '''\n",
    "    解压原始数据集，将src_path路径下的zip包解压至target_path目录下\n",
    "    '''\n",
    "    if(not os.path.isdir(target_path + \"ICL\")):     \n",
    "        z = zipfile.ZipFile(src_path, 'r')\n",
    "        z.extractall(path=target_path)\n",
    "        z.close()"
   ]
  },
  {
   "cell_type": "code",
   "execution_count": 31,
   "metadata": {
    "collapsed": false
   },
   "outputs": [],
   "source": [
    "def get_data_list(target_path,train_list_path,eval_list_path):\n",
    "    '''\n",
    "    生成数据列表\n",
    "    '''\n",
    "    #存放所有类别的信息\n",
    "    class_detail = []\n",
    "    #获取所有类别保存的文件夹名称\n",
    "    data_list_path=target_path\n",
    "    class_dirs = os.listdir(data_list_path)  \n",
    "    #总的图像数量\n",
    "    all_class_images = 0\n",
    "    #存放类别标签\n",
    "    class_label=0\n",
    "    #存放类别数目\n",
    "    class_dim = 0\n",
    "    #存储要写进eval.txt和train.txt中的内容\n",
    "    trainer_list=[]\n",
    "    eval_list=[]\n",
    "    for class_dir in class_dirs:\n",
    "        if class_dir != \".DS_Store\":\n",
    "            class_dim += 1\n",
    "            #每个类别的信息\n",
    "            class_detail_list = {}\n",
    "            eval_sum = 0\n",
    "            trainer_sum = 0\n",
    "            #统计每个类别有多少张图片\n",
    "            class_sum = 0\n",
    "            #获取类别路径 \n",
    "            path = data_list_path  +\"/\"+ class_dir\n",
    "            # 获取所有图片\n",
    "            img_paths = os.listdir(path)\n",
    "            for img_path in img_paths:# 遍历文件夹下的每个图片\n",
    "                if img_path == \"Thumbs.db\":\n",
    "                    continue\n",
    "                name_path = path + '/' + img_path# 每张图片的路径\n",
    "                if class_sum % 8 == 0:# 每8张图片取一个做验证数据\n",
    "                    eval_sum += 1# test_sum为测试数据的数目\n",
    "                    eval_list.append(name_path + \"\\t%d\" % class_label + \"\\n\")\n",
    "                else:\n",
    "                    trainer_sum += 1 \n",
    "                    trainer_list.append(name_path + \"\\t%d\" % class_label + \"\\n\")#trainer_sum测试数据的数目\n",
    "                class_sum += 1#每类图片的数目\n",
    "                all_class_images += 1 #所有类图片的数目\n",
    "             \n",
    "            # 说明的json文件的class_detail数据\n",
    "            class_detail_list['class_name'] = class_dir             #类别名称\n",
    "            class_detail_list['class_label'] = class_label          #类别标签\n",
    "            class_detail_list['class_eval_images'] = eval_sum       #该类数据的测试集数目\n",
    "            class_detail_list['class_trainer_images'] = trainer_sum #该类数据的训练集数目\n",
    "            class_detail.append(class_detail_list)  \n",
    "            #初始化标签列表\n",
    "            train_parameters['label_dict'][str(class_label)] = class_dir\n",
    "            class_label += 1 \n",
    "            \n",
    "    #初始化分类数\n",
    "    train_parameters['class_dim'] = class_dim\n",
    "  \n",
    "    #乱序  \n",
    "    random.shuffle(eval_list)\n",
    "    with open(eval_list_path, 'a') as f:\n",
    "        for eval_image in eval_list:\n",
    "            f.write(eval_image) \n",
    "            \n",
    "    random.shuffle(trainer_list)\n",
    "    with open(train_list_path, 'a') as f2:\n",
    "        for train_image in trainer_list:\n",
    "            f2.write(train_image) \n",
    "\n",
    "    # 说明的json文件信息\n",
    "    readjson = {}\n",
    "    readjson['all_class_name'] = data_list_path                  #文件父目录\n",
    "    readjson['all_class_images'] = all_class_images\n",
    "    readjson['class_detail'] = class_detail\n",
    "    jsons = json.dumps(readjson, sort_keys=True, indent=4, separators=(',', ': '))\n",
    "    with open(train_parameters['readme_path'],'w') as f:\n",
    "        f.write(jsons)\n",
    "    print ('生成数据列表完成！')"
   ]
  },
  {
   "cell_type": "code",
   "execution_count": 32,
   "metadata": {
    "collapsed": false
   },
   "outputs": [
    {
     "name": "stdout",
     "output_type": "stream",
     "text": [
      "生成数据列表完成！\n"
     ]
    }
   ],
   "source": [
    "'''\n",
    "参数初始化\n",
    "'''\n",
    "src_path=train_parameters['src_path']\n",
    "target_path=train_parameters['target_path']\n",
    "train_list_path=train_parameters['train_list_path']\n",
    "eval_list_path=train_parameters['eval_list_path']\n",
    "\n",
    "'''\n",
    "解压原始数据到指定路径\n",
    "'''\n",
    "unzip_data(src_path,target_path)\n",
    "\n",
    "'''\n",
    "划分训练集与验证集，乱序，生成数据列表\n",
    "'''\n",
    "#每次生成数据列表前，首先清空train.txt和eval.txt\n",
    "with open(train_list_path, 'w') as f: \n",
    "    f.seek(0)\n",
    "    f.truncate() \n",
    "with open(eval_list_path, 'w') as f: \n",
    "    f.seek(0)\n",
    "    f.truncate() \n",
    "    \n",
    "#生成数据列表   \n",
    "get_data_list(target_path,train_list_path,eval_list_path)"
   ]
  },
  {
   "cell_type": "code",
   "execution_count": 33,
   "metadata": {
    "collapsed": false
   },
   "outputs": [],
   "source": [
    "class dataset(Dataset):\n",
    "    def __init__(self, data_path, mode='train'):\n",
    "        \"\"\"\n",
    "        数据读取器\n",
    "        :param data_path: 数据集所在路径\n",
    "        :param mode: train or eval\n",
    "        \"\"\"\n",
    "        super().__init__()\n",
    "        self.data_path = data_path\n",
    "        self.img_paths = []\n",
    "        self.labels = []\n",
    "\n",
    "        if mode == 'train':\n",
    "            with open(os.path.join(self.data_path, \"train.txt\"), \"r\", encoding=\"utf-8\") as f:\n",
    "                self.info = f.readlines()\n",
    "            for img_info in self.info:\n",
    "                img_path, label = img_info.strip().split('\\t')\n",
    "                self.img_paths.append(img_path)\n",
    "                self.labels.append(int(label))\n",
    "\n",
    "        else:\n",
    "            with open(os.path.join(self.data_path, \"eval.txt\"), \"r\", encoding=\"utf-8\") as f:\n",
    "                self.info = f.readlines()\n",
    "            for img_info in self.info:\n",
    "                img_path, label = img_info.strip().split('\\t')\n",
    "                self.img_paths.append(img_path)\n",
    "                self.labels.append(int(label))\n",
    "\n",
    "\n",
    "    def __getitem__(self, index):\n",
    "        \"\"\"\n",
    "        获取一组数据\n",
    "        :param index: 文件索引号\n",
    "        :return:\n",
    "        \"\"\"\n",
    "        # 第一步打开图像文件并获取label值\n",
    "        img_path = self.img_paths[index]\n",
    "        img = Image.open(img_path)\n",
    "        if img.mode != 'RGB':\n",
    "            img = img.convert('RGB') \n",
    "        img = img.resize((224, 224), Image.BILINEAR)\n",
    "        img = np.array(img).astype('float32')\n",
    "        img = img.transpose((2, 0, 1)) / 255\n",
    "        label = self.labels[index]\n",
    "        label = np.array([label], dtype=\"int64\")\n",
    "        return img, label\n",
    "\n",
    "    def print_sample(self, index: int = 0):\n",
    "        print(\"文件名\", self.img_paths[index], \"\\t标签值\", self.labels[index])\n",
    "\n",
    "    def __len__(self):\n",
    "        return len(self.img_paths)"
   ]
  },
  {
   "cell_type": "code",
   "execution_count": 34,
   "metadata": {
    "collapsed": false
   },
   "outputs": [],
   "source": [
    "\n",
    "#训练数据加载\n",
    "train_dataset = dataset('/home/aistudio/data',mode='train')\n",
    "train_loader = paddle.io.DataLoader(train_dataset, batch_size=16, shuffle=True)\n",
    "#测试数据加载\n",
    "eval_dataset = dataset('/home/aistudio/data',mode='eval')\n",
    "eval_loader = paddle.io.DataLoader(eval_dataset, batch_size = 8, shuffle=False)"
   ]
  },
  {
   "cell_type": "code",
   "execution_count": 35,
   "metadata": {
    "collapsed": false
   },
   "outputs": [
    {
     "name": "stdout",
     "output_type": "stream",
     "text": [
      "文件名 /home/aistudio/data/ICL//210/210 (41).jpg \t标签值 155\n",
      "14657\n",
      "文件名 /home/aistudio/data/ICL//114/114 (12).jpg \t标签值 46\n",
      "2191\n",
      "(3, 224, 224)\n",
      "(1,)\n"
     ]
    }
   ],
   "source": [
    "train_dataset.print_sample(200)\n",
    "print(train_dataset.__len__())\n",
    "eval_dataset.print_sample(0)\n",
    "print(eval_dataset.__len__())\n",
    "print(eval_dataset.__getitem__(10)[0].shape)\n",
    "print(eval_dataset.__getitem__(10)[1].shape)"
   ]
  },
  {
   "cell_type": "code",
   "execution_count": 36,
   "metadata": {
    "collapsed": false
   },
   "outputs": [],
   "source": [
    "class ConvPool(paddle.nn.Layer):\n",
    "    '''卷积+池化'''\n",
    "    def __init__(self,\n",
    "                 num_channels,#1\n",
    "                 num_filters, #2\n",
    "                 filter_size,#3\n",
    "                 pool_size,#4\n",
    "                 pool_stride,#5\n",
    "                 groups,#6\n",
    "                 conv_stride=1, \n",
    "                 conv_padding=1,\n",
    "                 ):\n",
    "        super(ConvPool, self).__init__()  \n",
    "        self._conv2d_list = []\n",
    "\n",
    "        for i in range(groups):\n",
    "            conv2d = self.add_sublayer(   #添加子层实例\n",
    "                'bb_%d' % i,\n",
    "                paddle.nn.Conv2D(         # layer\n",
    "                in_channels=num_channels, #通道数\n",
    "                out_channels=num_filters,   #卷积核个数\n",
    "                kernel_size=filter_size,   #卷积核大小\n",
    "                stride=conv_stride,        #步长\n",
    "                padding = conv_padding,    #padding\n",
    "                )\n",
    "            )\n",
    "            num_channels = num_filters\n",
    "            \n",
    "            self._conv2d_list.append(conv2d)\n",
    "\n",
    "        self._pool2d = paddle.nn.MaxPool2D(\n",
    "            kernel_size=pool_size,           #池化核大小\n",
    "            stride=pool_stride               #池化步长\n",
    "            )\n",
    "        print(self._conv2d_list)\n",
    "\n",
    "\n",
    "\n",
    "\n",
    "\n",
    "    def forward(self, inputs):\n",
    "      x = inputs\n",
    "      for conv in self._conv2d_list:\n",
    "         x = conv(x)\n",
    "         x = paddle.nn.functional.relu(x)\n",
    "      x = self._pool2d(x)\n",
    "      return x\n",
    "      "
   ]
  },
  {
   "cell_type": "code",
   "execution_count": 37,
   "metadata": {
    "collapsed": false
   },
   "outputs": [],
   "source": [
    "class VGGNet(paddle.nn.Layer):\n",
    "  \n",
    "    def __init__(self):\n",
    "        super(VGGNet, self).__init__()       \n",
    "        self.convpool01 = ConvPool(\n",
    "            3, 64, 3, 2, 2, 2)  #3:通道数，64：卷积核个数，3:卷积核大小，2:池化核大小，2:池化步长，2:连续卷积个数\n",
    "        self.convpool02 = ConvPool(\n",
    "            64, 128, 3, 2, 2, 2)\n",
    "        self.convpool03 = ConvPool(\n",
    "            128, 256, 3, 2, 2, 3) \n",
    "        self.convpool04 = ConvPool(\n",
    "            256, 512, 3, 2, 2, 3)\n",
    "        self.convpool05 = ConvPool(\n",
    "            512, 512, 3, 2, 2, 3)       \n",
    "        self.pool_5_shape = 512 * 7* 7\n",
    "        self.fc01 = paddle.nn.Linear(self.pool_5_shape, 4096)\n",
    "        self.fc02 = paddle.nn.Linear(4096, 4096)\n",
    "        self.fc03 = paddle.nn.Linear(4096, train_parameters['class_dim'])\n",
    "\n",
    "    def forward(self, inputs, label=None):\n",
    "        # print('input_shape:', inputs.shape) #[8, 3, 224, 224]\n",
    "        \"\"\"前向计算\"\"\"\n",
    "        out = self.convpool01(inputs)\n",
    "        # print('convpool01_shape:', out.shape)           #[8, 64, 112, 112]\n",
    "        out = self.convpool02(out)\n",
    "        # print('convpool02_shape:', out.shape)           #[8, 128, 56, 56]\n",
    "        out = self.convpool03(out)\n",
    "        # print('convpool03_shape:', out.shape)           #[8, 256, 28, 28]\n",
    "        out = self.convpool04(out)\n",
    "        # print('convpool04_shape:', out.shape)           #[8, 512, 14, 14]\n",
    "        out = self.convpool05(out)\n",
    "        # print('convpool05_shape:', out.shape)           #[8, 512, 7, 7]         \n",
    "\n",
    "        out = paddle.reshape(out, shape=[-1, 512*7*7])\n",
    "        out = self.fc01(out)\n",
    "        out = self.fc02(out)\n",
    "        out = self.fc03(out)\n",
    "        \n",
    "        if label is not None:\n",
    "            acc = paddle.metric.accuracy(input=out, label=label)\n",
    "            return out, acc\n",
    "        else:\n",
    "            return out\n",
    "            "
   ]
  },
  {
   "cell_type": "code",
   "execution_count": 38,
   "metadata": {
    "collapsed": false
   },
   "outputs": [],
   "source": [
    "def draw_process(title,color,iters,data,label):\n",
    "    plt.title(title, fontsize=24)\n",
    "    plt.xlabel(\"iter\", fontsize=20)\n",
    "    plt.ylabel(label, fontsize=20)\n",
    "    plt.plot(iters, data,color=color,label=label) \n",
    "    plt.legend()\n",
    "    plt.grid()\n",
    "    plt.show()"
   ]
  },
  {
   "cell_type": "code",
   "execution_count": 39,
   "metadata": {
    "collapsed": false
   },
   "outputs": [
    {
     "name": "stdout",
     "output_type": "stream",
     "text": [
      "220\n",
      "{'0': '129', '1': '103', '2': '118', '3': '190', '4': '086', '5': '185', '6': '060', '7': '054', '8': '073', '9': '064', '10': '113', '11': '083', '12': '140', '13': '007', '14': '009', '15': '207', '16': '194', '17': '202', '18': '174', '19': '144', '20': '076', '21': '192', '22': '029', '23': '034', '24': '080', '25': '217', '26': '095', '27': '065', '28': '130', '29': '181', '30': '070', '31': '085', '32': '208', '33': '141', '34': '151', '35': '088', '36': '126', '37': '096', '38': '059', '39': '090', '40': '137', '41': '156', '42': '184', '43': '108', '44': '005', '45': '041', '46': '114', '47': '166', '48': '121', '49': '199', '50': '094', '51': '134', '52': '183', '53': '175', '54': '069', '55': '084', '56': '024', '57': '117', '58': '010', '59': '216', '60': '139', '61': '058', '62': '163', '63': '167', '64': '092', '65': '044', '66': '105', '67': '098', '68': '051', '69': '110', '70': '102', '71': '196', '72': '087', '73': '033', '74': '214', '75': '074', '76': '063', '77': '020', '78': '142', '79': '071', '80': '036', '81': '143', '82': '159', '83': '023', '84': '078', '85': '165', '86': '089', '87': '215', '88': '193', '89': '115', '90': '195', '91': '031', '92': '075', '93': '014', '94': '022', '95': '161', '96': '021', '97': '219', '98': '067', '99': '077', '100': '131', '101': '124', '102': '043', '103': '017', '104': '111', '105': '127', '106': '171', '107': '045', '108': '040', '109': '170', '110': '172', '111': '164', '112': '082', '113': '218', '114': '176', '115': '147', '116': '188', '117': '006', '118': '211', '119': '135', '120': '197', '121': '048', '122': '128', '123': '112', '124': '136', '125': '032', '126': '132', '127': '030', '128': '016', '129': '046', '130': '107', '131': '179', '132': '104', '133': '013', '134': '053', '135': '146', '136': '047', '137': '120', '138': '160', '139': '003', '140': '026', '141': '061', '142': '138', '143': '168', '144': '011', '145': '012', '146': '042', '147': '091', '148': '204', '149': '173', '150': '213', '151': '008', '152': '068', '153': '037', '154': '152', '155': '210', '156': '057', '157': '220', '158': '002', '159': '004', '160': '125', '161': '123', '162': '162', '163': '027', '164': '206', '165': '191', '166': '122', '167': '158', '168': '198', '169': '155', '170': '109', '171': '035', '172': '072', '173': '052', '174': '150', '175': '178', '176': '101', '177': '149', '178': '056', '179': '177', '180': '097', '181': '182', '182': '186', '183': '066', '184': '203', '185': '187', '186': '169', '187': '209', '188': '200', '189': '116', '190': '079', '191': '018', '192': '015', '193': '050', '194': '028', '195': '100', '196': '148', '197': '001', '198': '157', '199': '099', '200': '038', '201': '205', '202': '119', '203': '081', '204': '201', '205': '019', '206': '180', '207': '212', '208': '039', '209': '133', '210': '153', '211': '049', '212': '025', '213': '093', '214': '062', '215': '106', '216': '154', '217': '145', '218': '189', '219': '055'}\n"
     ]
    }
   ],
   "source": [
    "print(train_parameters['class_dim'])\n",
    "print(train_parameters['label_dict'])"
   ]
  },
  {
   "cell_type": "code",
   "execution_count": 40,
   "metadata": {
    "collapsed": false
   },
   "outputs": [
    {
     "name": "stdout",
     "output_type": "stream",
     "text": [
      "epo: 24, step: 22920, loss is: [0.38782454], acc is: [0.9375]\r"
     ]
    },
    {
     "name": "stderr",
     "output_type": "stream",
     "text": [
      "/opt/conda/envs/python35-paddle120-env/lib/python3.7/site-packages/matplotlib/cbook/__init__.py:2349: DeprecationWarning: Using or importing the ABCs from 'collections' instead of from 'collections.abc' is deprecated, and in 3.8 it will stop working\n",
      "  if isinstance(obj, collections.Iterator):\n",
      "/opt/conda/envs/python35-paddle120-env/lib/python3.7/site-packages/matplotlib/cbook/__init__.py:2366: DeprecationWarning: Using or importing the ABCs from 'collections' instead of from 'collections.abc' is deprecated, and in 3.8 it will stop working\n",
      "  return list(data) if isinstance(data, collections.MappingView) else data\n"
     ]
    },
    {
     "data": {
      "image/png": "[encoded data removed]",
      "text/plain": [
       "<Figure size 432x288 with 1 Axes>"
      ]
     },
     "metadata": {},
     "output_type": "display_data"
    },
    {
     "data": {
      "image/png": "[encoded data removed]",
      "text/plain": [
       "<Figure size 432x288 with 1 Axes>"
      ]
     },
     "metadata": {},
     "output_type": "display_data"
    }
   ],
   "source": [
    "\n",
    "model = VGGNet()\n",
    "model.train()\n",
    "cross_entropy = paddle.nn.CrossEntropyLoss()\n",
    "optimizer = paddle.optimizer.Adam(learning_rate=train_parameters['learning_strategy']['lr'],\n",
    "                                  parameters=model.parameters()) \n",
    "\n",
    "steps = 0\n",
    "Iters, total_loss, total_acc = [], [], []\n",
    "\n",
    "for epo in range(train_parameters['num_epochs']):\n",
    "    for _, data in enumerate(train_loader()):\n",
    "        steps += 1\n",
    "        x_data = data[0]\n",
    "        y_data = data[1]\n",
    "        predicts, acc = model(x_data, y_data)\n",
    "        loss = cross_entropy(predicts, y_data)\n",
    "        loss.backward()\n",
    "        optimizer.step()\n",
    "        optimizer.clear_grad()\n",
    "        if steps % train_parameters[\"skip_steps\"] == 0:\n",
    "            Iters.append(steps)\n",
    "            total_loss.append(loss.numpy()[0])\n",
    "            total_acc.append(acc.numpy()[0])\n",
    "            #打印中间过程\n",
    "            print('epo: {}, step: {}, loss is: {}, acc is: {}'\\\n",
    "                  .format(epo, steps, loss.numpy(), acc.numpy()))\n",
    "        #保存模型参数\n",
    "        if steps % train_parameters[\"save_steps\"] == 0:\n",
    "            save_path = train_parameters[\"checkpoints\"]+\"/\"+\"save_dir_\" + \"100\" + '.pdparams'\n",
    "            print('save model to: ' + save_path)\n",
    "            paddle.save(model.state_dict(),save_path)\n",
    "paddle.save(model.state_dict(),train_parameters[\"checkpoints\"]+\"/\"+\"save_dir_final.pdparams\")\n",
    "draw_process(\"trainning loss\",\"red\",Iters,total_loss,\"trainning loss\")\n",
    "draw_process(\"trainning acc\",\"green\",Iters,total_acc,\"trainning acc\")"
   ]
  },
  {
   "cell_type": "code",
   "execution_count": 41,
   "metadata": {
    "collapsed": false
   },
   "outputs": [
    {
     "name": "stdout",
     "output_type": "stream",
     "text": [
      "[Conv2D(3, 64, kernel_size=[3, 3], padding=1, data_format=NCHW), Conv2D(64, 64, kernel_size=[3, 3], padding=1, data_format=NCHW)]\n",
      "[Conv2D(64, 128, kernel_size=[3, 3], padding=1, data_format=NCHW), Conv2D(128, 128, kernel_size=[3, 3], padding=1, data_format=NCHW)]\n",
      "[Conv2D(128, 256, kernel_size=[3, 3], padding=1, data_format=NCHW), Conv2D(256, 256, kernel_size=[3, 3], padding=1, data_format=NCHW), Conv2D(256, 256, kernel_size=[3, 3], padding=1, data_format=NCHW)]\n",
      "[Conv2D(256, 512, kernel_size=[3, 3], padding=1, data_format=NCHW), Conv2D(512, 512, kernel_size=[3, 3], padding=1, data_format=NCHW), Conv2D(512, 512, kernel_size=[3, 3], padding=1, data_format=NCHW)]\n",
      "[Conv2D(512, 512, kernel_size=[3, 3], padding=1, data_format=NCHW), Conv2D(512, 512, kernel_size=[3, 3], padding=1, data_format=NCHW), Conv2D(512, 512, kernel_size=[3, 3], padding=1, data_format=NCHW)]\n",
      "模型在验证集上的准确率为： 0.7978363\n"
     ]
    }
   ],
   "source": [
    "\n",
    "'''\n",
    "模型预测\n",
    "'''\n",
    "model__state_dict = paddle.load('work/checkpoints/save_dir_final.pdparams')\n",
    "model_eval = VGGNet()\n",
    "model_eval.set_state_dict(model__state_dict) \n",
    "model_eval.eval()\n",
    "accs = []\n",
    "\n",
    "for _, data in enumerate(eval_loader()):\n",
    "    x_data = data[0]\n",
    "    y_data = data[1]\n",
    "    predicts = model_eval(x_data)\n",
    "    acc = paddle.metric.accuracy(predicts, y_data)\n",
    "    accs.append(acc.numpy()[0])\n",
    "print('模型在验证集上的准确率为：',np.mean(accs))"
   ]
  },
  {
   "cell_type": "code",
   "execution_count": 42,
   "metadata": {
    "collapsed": false
   },
   "outputs": [],
   "source": [
    "import os\n",
    "\n",
    "def load_image(img_path):\n",
    "    '''\n",
    "    预测图片预处理\n",
    "    '''\n",
    "    img = Image.open(img_path) \n",
    "    if img.mode != 'RGB': \n",
    "        img = img.convert('RGB') \n",
    "    img = img.resize((224, 224), Image.BILINEAR)\n",
    "    img = np.array(img).astype('float32') \n",
    "    img = img.transpose((2, 0, 1)) / 255 # HWC to CHW 及归一化\n",
    "    return img\n",
    "\n",
    "infer_dst_path = '/home/aistudio/data/'\n"
   ]
  },
  {
   "cell_type": "code",
   "execution_count": 47,
   "metadata": {
    "collapsed": false
   },
   "outputs": [
    {
     "name": "stdout",
     "output_type": "stream",
     "text": [
      "[Conv2D(3, 64, kernel_size=[3, 3], padding=1, data_format=NCHW), Conv2D(64, 64, kernel_size=[3, 3], padding=1, data_format=NCHW)]\n",
      "[Conv2D(64, 128, kernel_size=[3, 3], padding=1, data_format=NCHW), Conv2D(128, 128, kernel_size=[3, 3], padding=1, data_format=NCHW)]\n",
      "[Conv2D(128, 256, kernel_size=[3, 3], padding=1, data_format=NCHW), Conv2D(256, 256, kernel_size=[3, 3], padding=1, data_format=NCHW), Conv2D(256, 256, kernel_size=[3, 3], padding=1, data_format=NCHW)]\n",
      "[Conv2D(256, 512, kernel_size=[3, 3], padding=1, data_format=NCHW), Conv2D(512, 512, kernel_size=[3, 3], padding=1, data_format=NCHW), Conv2D(512, 512, kernel_size=[3, 3], padding=1, data_format=NCHW)]\n",
      "[Conv2D(512, 512, kernel_size=[3, 3], padding=1, data_format=NCHW), Conv2D(512, 512, kernel_size=[3, 3], padding=1, data_format=NCHW), Conv2D(512, 512, kernel_size=[3, 3], padding=1, data_format=NCHW)]\n",
      "['177 (29).jpg', '177 (44).jpg', '177 (16).jpg', '177 (7).jpg', '177 (36).jpg', '177 (34).jpg', '177 (5).jpg', '177 (19).jpg', '177 (43).jpg', '177 (15).jpg', '177 (25).jpg', '177 (6).jpg', '177 (30).jpg', '177 (39).jpg', '177 (45).jpg', '177 (14).jpg', '177 (23).jpg', '177 (37).jpg', '177 (9).jpg', '177 (11).jpg', '177 (41).jpg', '177 (2).jpg', '177 (24).jpg', '177 (26).jpg', '177 (38).jpg', '177 (12).jpg', '177 (20).jpg', '177 (40).jpg', '177 (22).jpg', '177 (10).jpg', '177 (31).jpg', '177 (35).jpg', '177 (28).jpg', 'Thumbs.db', '177 (3).jpg', '177 (32).jpg', '177 (1).jpg', '177 (46).jpg', '177 (48).jpg', '177 (47).jpg', '177 (13).jpg', '177 (18).jpg', '177 (33).jpg', '177 (21).jpg', '177 (27).jpg', '177 (17).jpg', '177 (8).jpg', '177 (42).jpg', '177 (4).jpg']\n",
      "样本: 177 (29).jpg,预测结果为:错误\n",
      "样本: 177 (44).jpg,预测结果为:准确\n",
      "样本: 177 (16).jpg,预测结果为:准确\n",
      "样本: 177 (7).jpg,预测结果为:准确\n",
      "样本: 177 (36).jpg,预测结果为:准确\n",
      "样本: 177 (34).jpg,预测结果为:准确\n",
      "样本: 177 (5).jpg,预测结果为:准确\n",
      "样本: 177 (19).jpg,预测结果为:准确\n",
      "样本: 177 (43).jpg,预测结果为:准确\n",
      "样本: 177 (15).jpg,预测结果为:准确\n",
      "样本: 177 (25).jpg,预测结果为:准确\n",
      "样本: 177 (6).jpg,预测结果为:准确\n",
      "样本: 177 (30).jpg,预测结果为:准确\n",
      "样本: 177 (39).jpg,预测结果为:准确\n",
      "样本: 177 (45).jpg,预测结果为:准确\n",
      "样本: 177 (14).jpg,预测结果为:准确\n",
      "样本: 177 (23).jpg,预测结果为:准确\n",
      "样本: 177 (37).jpg,预测结果为:准确\n",
      "样本: 177 (9).jpg,预测结果为:准确\n",
      "样本: 177 (11).jpg,预测结果为:准确\n",
      "样本: 177 (41).jpg,预测结果为:准确\n",
      "样本: 177 (2).jpg,预测结果为:准确\n",
      "样本: 177 (24).jpg,预测结果为:准确\n",
      "样本: 177 (26).jpg,预测结果为:准确\n",
      "样本: 177 (38).jpg,预测结果为:准确\n",
      "样本: 177 (12).jpg,预测结果为:准确\n",
      "样本: 177 (20).jpg,预测结果为:准确\n",
      "样本: 177 (40).jpg,预测结果为:准确\n",
      "样本: 177 (22).jpg,预测结果为:准确\n",
      "样本: 177 (10).jpg,预测结果为:准确\n",
      "样本: 177 (31).jpg,预测结果为:准确\n",
      "样本: 177 (35).jpg,预测结果为:准确\n",
      "样本: 177 (28).jpg,预测结果为:准确\n",
      "样本: 177 (3).jpg,预测结果为:准确\n",
      "样本: 177 (32).jpg,预测结果为:准确\n",
      "样本: 177 (1).jpg,预测结果为:准确\n",
      "样本: 177 (46).jpg,预测结果为:准确\n",
      "样本: 177 (48).jpg,预测结果为:准确\n",
      "样本: 177 (47).jpg,预测结果为:准确\n",
      "样本: 177 (13).jpg,预测结果为:准确\n",
      "样本: 177 (18).jpg,预测结果为:准确\n",
      "样本: 177 (33).jpg,预测结果为:准确\n",
      "样本: 177 (21).jpg,预测结果为:准确\n",
      "样本: 177 (27).jpg,预测结果为:准确\n",
      "样本: 177 (17).jpg,预测结果为:准确\n",
      "样本: 177 (8).jpg,预测结果为:准确\n",
      "样本: 177 (42).jpg,预测结果为:准确\n",
      "样本: 177 (4).jpg,预测结果为:错误\n"
     ]
    }
   ],
   "source": [
    "\n",
    "model__state_dict = paddle.load('work/checkpoints/save_dir_final.pdparams')\n",
    "model_predict = VGGNet()\n",
    "model_predict.set_state_dict(model__state_dict) \n",
    "model_predict.eval()\n",
    "infer_dst_path = \"/home/aistudio/data\"\n",
    "infer_imgs_path = os.listdir(infer_dst_path+\"/ICL/177/\")\n",
    "print(infer_imgs_path)\n",
    "for infer_img_path in infer_imgs_path:\n",
    "    if infer_img_path != \"Thumbs.db\":\n",
    "        infer_img = load_image(infer_dst_path+\"/ICL/177/\"+infer_img_path)\n",
    "        infer_img = infer_img[np.newaxis,:, : ,:]  #reshape(-1,3,224,224)\n",
    "        infer_img = paddle.to_tensor(infer_img)\n",
    "        result = model_predict(infer_img)\n",
    "        lab = np.argmax(result.numpy())\n",
    "        if lab == 179:\n",
    "            print(\"样本: {},预测结果为:{}\".format(infer_img_path,\"准确\"))\n",
    "        else:\n",
    "            print(\"样本: {},预测结果为:{}\".format(infer_img_path,\"错误\"))"
   ]
  }
 ],
 "metadata": {
  "kernelspec": {
   "display_name": "Python 3",
   "language": "python",
   "name": "py35-paddle1.2.0"
  },
  "language_info": {
   "codemirror_mode": {
    "name": "ipython",
    "version": 3
   },
   "file_extension": ".py",
   "mimetype": "text/x-python",
   "name": "python",
   "nbconvert_exporter": "python",
   "pygments_lexer": "ipython3",
   "version": "3.7.4"
  }
 },
 "nbformat": 4,
 "nbformat_minor": 1
}
