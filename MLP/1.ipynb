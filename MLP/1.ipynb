{
 "cells": [
  {
   "cell_type": "markdown",
   "metadata": {},
   "source": [
    "## 1.数组创建\n",
    "\n",
    "可以使用array函数从常规Python**列表或元组**中创建数组。得到的数组的类型是从Python列表中元素的类型推导出来的。\n",
    "\n",
    "创建数组最简单的办法就是使用array函数。它接受一切序列型的对象（包括其他数组），然后产生一个新的含有传入数据的numpy数组。其中，嵌套序列（比如由一组等长列表组成的列表）将会被转换为一个多维数组"
   ]
  },
  {
   "cell_type": "code",
   "execution_count": 1,
   "metadata": {},
   "outputs": [
    {
     "name": "stdout",
     "output_type": "stream",
     "text": [
      "[[1 2 3]\n",
      " [4 5 6]]\n"
     ]
    }
   ],
   "source": [
    "import numpy as np\n",
    "\n",
    "#将列表转换为数组\n",
    "array = np.array([[1,2,3],\n",
    "                 [4,5,6]])\n",
    "print(array)"
   ]
  },
  {
   "cell_type": "code",
   "execution_count": 2,
   "metadata": {},
   "outputs": [
    {
     "name": "stdout",
     "output_type": "stream",
     "text": [
      "[[1 2 3]\n",
      " [4 5 6]]\n"
     ]
    }
   ],
   "source": [
    "import numpy as np\n",
    "\n",
    "#将元组转换为数组\n",
    "array = np.array(((1,2,3),\n",
    "                 (4,5,6)))\n",
    "print(array)"
   ]
  },
  {
   "cell_type": "code",
   "execution_count": 3,
   "metadata": {},
   "outputs": [
    {
     "name": "stdout",
     "output_type": "stream",
     "text": [
      "[1 2 3 4]\n"
     ]
    }
   ],
   "source": [
    "import numpy as np\n",
    "\n",
    "a = np.array((1,2,3,4)) \n",
    "print(a)"
   ]
  },
  {
   "cell_type": "code",
   "execution_count": 4,
   "metadata": {},
   "outputs": [
    {
     "name": "stdout",
     "output_type": "stream",
     "text": [
      "[10 16 22 28]\n"
     ]
    }
   ],
   "source": [
    "array = np.arange( 10, 31, 6 )\n",
    "print(array)"
   ]
  },
  {
   "cell_type": "code",
   "execution_count": 5,
   "metadata": {},
   "outputs": [
    {
     "name": "stdout",
     "output_type": "stream",
     "text": [
      "[3 4 5]\n"
     ]
    }
   ],
   "source": [
    "array =  np.arange(3,6)\n",
    "print(array)"
   ]
  },
  {
   "cell_type": "code",
   "execution_count": 6,
   "metadata": {},
   "outputs": [
    {
     "name": "stdout",
     "output_type": "stream",
     "text": [
      "[[ 1  2  3]\n",
      " [ 4  5  6]\n",
      " [ 7  8  9]\n",
      " [10 11 12]]\n",
      "2\n",
      "(4, 3)\n",
      "12\n",
      "int32\n"
     ]
    }
   ],
   "source": [
    "\n",
    "array = np.array([[1,2,3],[4,5,6],[7,8,9],[10,11,12]])\n",
    "print(array)\n",
    "#数组维度\n",
    "print(array.ndim)\n",
    "#数组形状\n",
    "print(array.shape)\n",
    "#数组元素个数\n",
    "print(array.size)\n",
    "#数组元素类型\n",
    "print(array.dtype)"
   ]
  },
  {
   "cell_type": "code",
   "execution_count": 7,
   "metadata": {},
   "outputs": [
    {
     "name": "stdout",
     "output_type": "stream",
     "text": [
      "[[0 1 2]\n",
      " [3 4 5]]\n",
      "[[1 2]\n",
      " [3 4]\n",
      " [5 6]]\n"
     ]
    }
   ],
   "source": [
    "\n",
    "array1 = np.arange(6).reshape([2,3])\n",
    "print(array1)\n",
    "\n",
    "array2 = np.array([[1,2,3],[4,5,6]],dtype=np.int64).reshape([3,2])\n",
    "print(array2)\n"
   ]
  },
  {
   "cell_type": "markdown",
   "metadata": {},
   "source": [
    "## 2.数组的计算\n",
    "\n",
    "数组很重要，因为它可以使我们不用编写循环即可对数据执行批量运算。这通常叫做矢量化（vectorization）。\n",
    "\n",
    "**大小相等的数组之间的任何算术运算都会将运算应用到元素级**。同样，数组与标量的算术运算也会将那个标量值传播到各个元素.\n"
   ]
  },
  {
   "cell_type": "code",
   "execution_count": 8,
   "metadata": {},
   "outputs": [
    {
     "name": "stdout",
     "output_type": "stream",
     "text": [
      "[[2 3 4]\n",
      " [5 6 7]]\n",
      "[[0 1 2]\n",
      " [3 4 5]]\n",
      "[[1 2 3]\n",
      " [4 5 6]]\n",
      "[[1. 2. 3.]\n",
      " [4. 5. 6.]]\n",
      "[[ 1  4  9]\n",
      " [16 25 36]]\n"
     ]
    }
   ],
   "source": [
    "\n",
    "arr1 = np.array([[1,2,3],[4,5,6]])\n",
    "arr2 = np.ones([2,3],dtype=np.int64)\n",
    "\n",
    "print(arr1 + arr2)\n",
    "print(arr1 - arr2)\n",
    "print(arr1 * arr2)\n",
    "print(arr1 / arr2)\n",
    "print(arr1 ** 2)\n"
   ]
  },
  {
   "cell_type": "code",
   "execution_count": 9,
   "metadata": {},
   "outputs": [
    {
     "name": "stdout",
     "output_type": "stream",
     "text": [
      "[[1 2 3]\n",
      " [4 5 6]]\n",
      "[[1 1]\n",
      " [1 1]\n",
      " [1 1]]\n",
      "[[ 6  6]\n",
      " [15 15]]\n"
     ]
    }
   ],
   "source": [
    "#矩阵乘法\n",
    "arr3 = np.array([[1,2,3],[4,5,6]])\n",
    "arr4 = np.ones([3,2],dtype=np.int64)\n",
    "print(arr3)\n",
    "print(arr4)\n",
    "print(np.dot(arr3,arr4))"
   ]
  },
  {
   "cell_type": "code",
   "execution_count": 10,
   "metadata": {},
   "outputs": [
    {
     "name": "stdout",
     "output_type": "stream",
     "text": [
      "[[1 2 3]\n",
      " [4 5 6]]\n",
      "[ 6 15]\n",
      "6\n",
      "1\n",
      "3.5\n",
      "5\n",
      "0\n"
     ]
    }
   ],
   "source": [
    "print(arr3)\n",
    "print(np.sum(arr3,axis=1)) #axis=1,每一行求和 axie=0,每一列求和\n",
    "print(np.max(arr3))\n",
    "print(np.min(arr3))\n",
    "print(np.mean(arr3))\n",
    "print(np.argmax(arr3))\n",
    "print(np.argmin(arr3))"
   ]
  },
  {
   "cell_type": "code",
   "execution_count": 11,
   "metadata": {},
   "outputs": [
    {
     "name": "stdout",
     "output_type": "stream",
     "text": [
      "[[1 4]\n",
      " [2 5]\n",
      " [3 6]]\n",
      "[1 2 3 4 5 6]\n"
     ]
    }
   ],
   "source": [
    "arr3_tran = arr3.transpose()\n",
    "print(arr3_tran)\n",
    "\n",
    "print(arr3.flatten())"
   ]
  },
  {
   "cell_type": "markdown",
   "metadata": {},
   "source": [
    "## 3.数组的索引与切片"
   ]
  },
  {
   "cell_type": "code",
   "execution_count": null,
   "metadata": {},
   "outputs": [],
   "source": [
    "arr5 = np.arange(0,6).reshape([2,3])\n",
    "print(arr5)\n",
    "print(arr5[1])\n",
    "print(arr5[1][2])\n",
    "\n",
    "print(arr5[1,2])\n",
    "\n",
    "print(arr5[1,:])\n",
    "print(arr5[:,1])\n",
    "print(arr5[1,0:2])"
   ]
  },
  {
   "cell_type": "markdown",
   "metadata": {},
   "source": [
    "# Pandas库\n",
    "\n",
    "pandas是python第三方库，提供高性能易用数据类型和分析工具。\n",
    "\n",
    "pandas基于numpy实现，常与numpy和matplotlib一同使用\n",
    "\n",
    "更多学习，请参考**pandas中文网**：https://www.pypandas.cn/\n",
    "\n"
   ]
  },
  {
   "cell_type": "markdown",
   "metadata": {},
   "source": [
    "## 1.Series\n",
    "\n",
    "Series是一种类似于一维数组的对象，它由一维数组（各种numpy数据类型）以及一组与之相关的数据标签（即索引）组成.\n",
    "\n",
    "可理解为带标签的一维数组，可存储整数、浮点数、字符串、Python 对象等类型的数据。"
   ]
  },
  {
   "cell_type": "code",
   "execution_count": 12,
   "metadata": {},
   "outputs": [
    {
     "name": "stdout",
     "output_type": "stream",
     "text": [
      "0    a\n",
      "1    b\n",
      "2    c\n",
      "3    d\n",
      "4    e\n",
      "dtype: object\n"
     ]
    }
   ],
   "source": [
    "import pandas as pd\n",
    "import numpy as np\n",
    "\n",
    "s = pd.Series(['a','b','c','d','e'])\n",
    "print(s)"
   ]
  },
  {
   "cell_type": "code",
   "execution_count": 13,
   "metadata": {},
   "outputs": [
    {
     "name": "stdout",
     "output_type": "stream",
     "text": [
      "100    a\n",
      "200    b\n",
      "100    c\n",
      "400    d\n",
      "500    e\n",
      "dtype: object\n"
     ]
    }
   ],
   "source": [
    "#与字典不同的是：Series允许索引重复\n",
    "s = pd.Series(['a','b','c','d','e'],index=[100,200,100,400,500])\n",
    "print(s)\n"
   ]
  },
  {
   "cell_type": "code",
   "execution_count": 14,
   "metadata": {},
   "outputs": [
    {
     "data": {
      "text/plain": [
       "b    1\n",
       "a    0\n",
       "c    2\n",
       "dtype: int64"
      ]
     },
     "execution_count": 14,
     "metadata": {},
     "output_type": "execute_result"
    }
   ],
   "source": [
    "\n",
    "d = {'b': 1, 'a': 0, 'c': 2}\n",
    "pd.Series(d)"
   ]
  },
  {
   "cell_type": "code",
   "execution_count": 15,
   "metadata": {},
   "outputs": [
    {
     "name": "stdout",
     "output_type": "stream",
     "text": [
      "['a' 'b' 'c' 'd' 'e']\n",
      "Int64Index([100, 200, 100, 400, 500], dtype='int64')\n"
     ]
    }
   ],
   "source": [
    "\n",
    "print(s.values)\n",
    "print(s.index)\n"
   ]
  },
  {
   "cell_type": "code",
   "execution_count": 16,
   "metadata": {},
   "outputs": [
    {
     "name": "stdout",
     "output_type": "stream",
     "text": [
      "100    a\n",
      "200    b\n",
      "100    c\n",
      "400    d\n",
      "500    e\n",
      "dtype: object\n",
      "100    a\n",
      "100    c\n",
      "dtype: object\n",
      "400    d\n",
      "500    e\n",
      "dtype: object\n"
     ]
    }
   ],
   "source": [
    "#与普通numpy数组相比，可以通过索引的方式选取Series中的单个或一组值\n",
    "print(s)\n",
    "print(s[100])\n",
    "print(s[[400, 500]])\n"
   ]
  },
  {
   "cell_type": "code",
   "execution_count": 17,
   "metadata": {},
   "outputs": [
    {
     "name": "stdout",
     "output_type": "stream",
     "text": [
      "a    1\n",
      "b    2\n",
      "c    3\n",
      "d    4\n",
      "e    5\n",
      "dtype: int32\n",
      "a     2\n",
      "b     4\n",
      "c     6\n",
      "d     8\n",
      "e    10\n",
      "dtype: int32\n",
      "a     3\n",
      "b     6\n",
      "c     9\n",
      "d    12\n",
      "e    15\n",
      "dtype: int32\n"
     ]
    }
   ],
   "source": [
    "\n",
    "s = pd.Series(np.array([1,2,3,4,5]), index=['a', 'b', 'c', 'd', 'e'])\n",
    "print(s)\n",
    "\n",
    "#对应元素求和\n",
    "print(s+s)\n",
    "\n",
    "#对应元素乘\n",
    "print(s*3)"
   ]
  },
  {
   "cell_type": "code",
   "execution_count": 18,
   "metadata": {},
   "outputs": [
    {
     "name": "stdout",
     "output_type": "stream",
     "text": [
      "California         NaN\n",
      "Ohio           70000.0\n",
      "Oregon         32000.0\n",
      "Texas         142000.0\n",
      "Utah               NaN\n",
      "dtype: float64\n"
     ]
    }
   ],
   "source": [
    "\n",
    "\n",
    "obj1 = pd.Series({\"Ohio\": 35000, \"Oregon\": 16000, \"Texas\": 71000, \"Utah\": 5000})\n",
    "obj2 = pd.Series({\"California\": np.nan, \"Ohio\": 35000, \"Oregon\": 16000, \"Texas\": 71000})\n",
    "\n",
    "print(obj1 + obj2)\n"
   ]
  },
  {
   "cell_type": "code",
   "execution_count": 19,
   "metadata": {},
   "outputs": [
    {
     "name": "stdout",
     "output_type": "stream",
     "text": [
      "b    2\n",
      "c    3\n",
      "d    4\n",
      "e    5\n",
      "dtype: int32\n",
      "a    1\n",
      "b    2\n",
      "c    3\n",
      "d    4\n",
      "dtype: int32\n",
      "a    NaN\n",
      "b    4.0\n",
      "c    6.0\n",
      "d    8.0\n",
      "e    NaN\n",
      "dtype: float64\n"
     ]
    }
   ],
   "source": [
    "s = pd.Series(np.array([1,2,3,4,5]), index=['a', 'b', 'c', 'd', 'e'])\n",
    "\n",
    "print(s[1:])\n",
    "\n",
    "print(s[:-1])\n",
    "\n",
    "print(s[1:] + s[:-1])"
   ]
  },
  {
   "cell_type": "code",
   "execution_count": 20,
   "metadata": {},
   "outputs": [
    {
     "name": "stdout",
     "output_type": "stream",
     "text": [
      "    state  year  pop\n",
      "0    Ohio  2000  1.5\n",
      "1    Ohio  2001  1.7\n",
      "2    Ohio  2002  3.6\n",
      "3  Nevada  2001  2.4\n",
      "4  Nevada  2002  2.9\n"
     ]
    }
   ],
   "source": [
    "data = {'state': ['Ohio', 'Ohio', 'Ohio', 'Nevada', 'Nevada'], 'year': [2000, 2001, 2002, 2001, 2002], 'pop': [1.5, 1.7, 3.6, 2.4, 2.9]}\n",
    "frame = pd.DataFrame(data)\n",
    "print(frame)\n"
   ]
  },
  {
   "cell_type": "code",
   "execution_count": 21,
   "metadata": {},
   "outputs": [
    {
     "name": "stdout",
     "output_type": "stream",
     "text": [
      "   year   state  pop\n",
      "0  2000    Ohio  1.5\n",
      "1  2001    Ohio  1.7\n",
      "2  2002    Ohio  3.6\n",
      "3  2001  Nevada  2.4\n",
      "4  2002  Nevada  2.9\n"
     ]
    }
   ],
   "source": [
    "#如果指定了列顺序，则DataFrame的列就会按照指定顺序进行排列\n",
    "frame1 = pd.DataFrame(data, columns=['year', 'state', 'pop'])\n",
    "print(frame1)\n"
   ]
  },
  {
   "cell_type": "code",
   "execution_count": 22,
   "metadata": {},
   "outputs": [
    {
     "name": "stdout",
     "output_type": "stream",
     "text": [
      "       year   state  pop debt\n",
      "one    2000    Ohio  1.5  NaN\n",
      "two    2001    Ohio  1.7  NaN\n",
      "three  2002    Ohio  3.6  NaN\n",
      "four   2001  Nevada  2.4  NaN\n",
      "five   2002  Nevada  2.9  NaN\n"
     ]
    }
   ],
   "source": [
    "\n",
    "frame2 = pd.DataFrame(data, columns=['year', 'state', 'pop', 'debt'], index=['one', 'two', 'three', 'four', 'five'])\n",
    "print(frame2)"
   ]
  },
  {
   "cell_type": "code",
   "execution_count": 23,
   "metadata": {},
   "outputs": [
    {
     "name": "stdout",
     "output_type": "stream",
     "text": [
      "       year   state  pop debt\n",
      "one    2000    Ohio  1.5  NaN\n",
      "two    2001    Ohio  1.7  NaN\n",
      "three  2002    Ohio  3.6  NaN\n",
      "four   2001  Nevada  2.4  NaN\n",
      "five   2002  Nevada  2.9  NaN\n",
      "one        Ohio\n",
      "two        Ohio\n",
      "three      Ohio\n",
      "four     Nevada\n",
      "five     Nevada\n",
      "Name: state, dtype: object\n"
     ]
    }
   ],
   "source": [
    "#通过类似字典标记的方式或属性的方式，可以将DataFrame的列获取为一个Series,返回的Series拥有原DataFrame相同的索引\n",
    "frame2 = pd.DataFrame(data, columns=['year', 'state', 'pop', 'debt'], index=['one', 'two', 'three', 'four', 'five'])\n",
    "print(frame2)\n",
    "print(frame2['state'])"
   ]
  },
  {
   "cell_type": "code",
   "execution_count": 24,
   "metadata": {},
   "outputs": [
    {
     "name": "stdout",
     "output_type": "stream",
     "text": [
      "       year   state  pop  debt\n",
      "one    2000    Ohio  1.5  16.5\n",
      "two    2001    Ohio  1.7  16.5\n",
      "three  2002    Ohio  3.6  16.5\n",
      "four   2001  Nevada  2.4  16.5\n",
      "five   2002  Nevada  2.9  16.5\n"
     ]
    }
   ],
   "source": [
    "\n",
    "frame2['debt'] = 16.5\n",
    "print(frame2)\n"
   ]
  },
  {
   "cell_type": "code",
   "execution_count": 25,
   "metadata": {},
   "outputs": [
    {
     "name": "stdout",
     "output_type": "stream",
     "text": [
      "       year   state  pop  debt\n",
      "one    2000    Ohio  1.5  16.5\n",
      "two    2001    Ohio  1.7  16.5\n",
      "three  2002    Ohio  3.6  16.5\n",
      "four   2001  Nevada  2.4  16.5\n",
      "five   2002  Nevada  2.9  16.5\n",
      "       year   state  pop  debt    new\n",
      "one    2000    Ohio  1.5  16.5  24.75\n",
      "two    2001    Ohio  1.7  16.5  28.05\n",
      "three  2002    Ohio  3.6  16.5  59.40\n",
      "four   2001  Nevada  2.4  16.5  39.60\n",
      "five   2002  Nevada  2.9  16.5  47.85\n"
     ]
    }
   ],
   "source": [
    "print(frame2)\n",
    "frame2['new'] = frame2['debt' ]* frame2['pop'] \n",
    "print(frame2)"
   ]
  },
  {
   "cell_type": "code",
   "execution_count": 26,
   "metadata": {},
   "outputs": [
    {
     "name": "stdout",
     "output_type": "stream",
     "text": [
      "       year   state  pop  debt    new\n",
      "one    2000    Ohio  1.5   0.0  24.75\n",
      "two    2001    Ohio  1.7   1.0  28.05\n",
      "three  2002    Ohio  3.6   2.0  59.40\n",
      "four   2001  Nevada  2.4   3.0  39.60\n",
      "five   2002  Nevada  2.9   4.0  47.85\n"
     ]
    }
   ],
   "source": [
    "frame2['debt'] = np.arange(5.)\n",
    "print(frame2)"
   ]
  },
  {
   "cell_type": "markdown",
   "metadata": {},
   "source": [
    "# PIL库\n",
    "\n",
    "PIL库是一个具有强大图像处理能力的第三方库。\n",
    "\n",
    "图像的组成：由RGB三原色组成,RGB图像中，一种彩色由R、G、B三原色按照比例混合而成。0-255区分不同亮度的颜色。\n",
    "\n",
    "图像的数组表示：图像是一个由像素组成的矩阵，每个元素是一个RGB值\n",
    "\n",
    "![](https://ai-studio-static-online.cdn.bcebos.com/66ad941c87c5459ea2aade30e26fad8ccf65312d850c49e3bc3581b9afc8fd23)\n"
   ]
  },
  {
   "cell_type": "code",
   "execution_count": null,
   "metadata": {},
   "outputs": [],
   "source": [
    "from PIL import Image\n",
    "import matplotlib.pyplot as plt\n",
    "import numpy  as np\n",
    "#显示matplotlib生成的图形\n",
    "%matplotlib inline\n",
    "\n",
    "#读取图片\n",
    "img = Image.open('data/data37255/yushuxin.jpg') \n",
    "\n",
    "# img = Image.open('work/smile01.jpg') \n",
    "img_array = np.array(img).astype('float32')    #将一个PIL的图像对象，转换为numpy.array\n",
    "print(img_array)\n",
    "print(img_array.shape)\n",
    "\n",
    "#显示图片\n",
    "#img.show() #自动调用计算机上显示图片的工具\n",
    "\n",
    "plt.imshow(img)  \n",
    "plt.show()\n",
    "\n",
    "#获得图像的模式\n",
    "img_mode = img.mode\n",
    "print(img_mode)\n",
    "\n",
    "width,height = img.size\n",
    "print(width,height)\n",
    "\n"
   ]
  },
  {
   "cell_type": "code",
   "execution_count": null,
   "metadata": {},
   "outputs": [],
   "source": [
    "from PIL import Image\n",
    "import matplotlib.pyplot as plt\n",
    "#显示matplotlib生成的图形\n",
    "%matplotlib inline\n",
    "\n",
    "#读取图片\n",
    "img = Image.open('data/data37255/yushuxin.jpg') \n",
    "#显示图片\n",
    "plt.imshow(img)  \n",
    "plt.show()  \n",
    "\n",
    "#将图片旋转45度\n",
    "img_rotate = img.rotate(45) \n",
    "#显示旋转后的图片\n",
    "plt.imshow(img_rotate)  \n",
    "plt.show()   "
   ]
  },
  {
   "cell_type": "code",
   "execution_count": 27,
   "metadata": {},
   "outputs": [
    {
     "ename": "FileNotFoundError",
     "evalue": "[Errno 2] No such file or directory: 'data/data37255/yushuxin.jpg'",
     "output_type": "error",
     "traceback": [
      "\u001b[1;31m---------------------------------------------------------------------------\u001b[0m",
      "\u001b[1;31mFileNotFoundError\u001b[0m                         Traceback (most recent call last)",
      "\u001b[1;32m<ipython-input-27-3503f1af6cc8>\u001b[0m in \u001b[0;36m<module>\u001b[1;34m()\u001b[0m\n\u001b[0;32m      2\u001b[0m \u001b[1;33m\u001b[0m\u001b[0m\n\u001b[0;32m      3\u001b[0m \u001b[1;31m#打开图片\u001b[0m\u001b[1;33m\u001b[0m\u001b[1;33m\u001b[0m\u001b[1;33m\u001b[0m\u001b[0m\n\u001b[1;32m----> 4\u001b[1;33m \u001b[0mimg1\u001b[0m \u001b[1;33m=\u001b[0m \u001b[0mImage\u001b[0m\u001b[1;33m.\u001b[0m\u001b[0mopen\u001b[0m\u001b[1;33m(\u001b[0m\u001b[1;34m'data/data37255/yushuxin.jpg'\u001b[0m\u001b[1;33m)\u001b[0m\u001b[1;33m\u001b[0m\u001b[1;33m\u001b[0m\u001b[0m\n\u001b[0m\u001b[0;32m      5\u001b[0m \u001b[1;33m\u001b[0m\u001b[0m\n\u001b[0;32m      6\u001b[0m \u001b[1;31m#剪切 crop()四个参数分别是：(左上角点的x坐标，左上角点的y坐标，右下角点的x坐标，右下角点的y坐标)\u001b[0m\u001b[1;33m\u001b[0m\u001b[1;33m\u001b[0m\u001b[1;33m\u001b[0m\u001b[0m\n",
      "\u001b[1;32mD:\\RuntimeEnvironment\\Anaconda\\envs\\tf2\\lib\\site-packages\\PIL\\Image.py\u001b[0m in \u001b[0;36mopen\u001b[1;34m(fp, mode, formats)\u001b[0m\n\u001b[0;32m   2973\u001b[0m \u001b[1;33m\u001b[0m\u001b[0m\n\u001b[0;32m   2974\u001b[0m     \u001b[1;32mif\u001b[0m \u001b[0mfilename\u001b[0m\u001b[1;33m:\u001b[0m\u001b[1;33m\u001b[0m\u001b[1;33m\u001b[0m\u001b[0m\n\u001b[1;32m-> 2975\u001b[1;33m         \u001b[0mfp\u001b[0m \u001b[1;33m=\u001b[0m \u001b[0mbuiltins\u001b[0m\u001b[1;33m.\u001b[0m\u001b[0mopen\u001b[0m\u001b[1;33m(\u001b[0m\u001b[0mfilename\u001b[0m\u001b[1;33m,\u001b[0m \u001b[1;34m\"rb\"\u001b[0m\u001b[1;33m)\u001b[0m\u001b[1;33m\u001b[0m\u001b[1;33m\u001b[0m\u001b[0m\n\u001b[0m\u001b[0;32m   2976\u001b[0m         \u001b[0mexclusive_fp\u001b[0m \u001b[1;33m=\u001b[0m \u001b[1;32mTrue\u001b[0m\u001b[1;33m\u001b[0m\u001b[1;33m\u001b[0m\u001b[0m\n\u001b[0;32m   2977\u001b[0m \u001b[1;33m\u001b[0m\u001b[0m\n",
      "\u001b[1;31mFileNotFoundError\u001b[0m: [Errno 2] No such file or directory: 'data/data37255/yushuxin.jpg'"
     ]
    }
   ],
   "source": [
    "from PIL import Image\n",
    "\n",
    "#打开图片\n",
    "img1 = Image.open('data/data37255/yushuxin.jpg') \n",
    "\n",
    "#剪切 crop()四个参数分别是：(左上角点的x坐标，左上角点的y坐标，右下角点的x坐标，右下角点的y坐标)\n",
    "img1_crop_result = img1.crop((139,11,379,225))\n",
    "\n",
    "#保存图片\n",
    "img1_crop_result.save('/home/aistudio/work/yushuxin_crop_result.jpg')\n",
    "\n",
    "#展示图片\n",
    "plt.imshow(img1_crop_result)  \n",
    "plt.show()   \n"
   ]
  },
  {
   "cell_type": "code",
   "execution_count": null,
   "metadata": {},
   "outputs": [],
   "source": [
    "from PIL import Image\n",
    "\n",
    "#打开图片\n",
    "img2 = Image.open('data/data37255/yushuxin.jpg') \n",
    "\n",
    "width,height = img2.size\n",
    "\n",
    "#缩放\n",
    "img2_resize_result = img2.resize((int(width*0.6),int(height*0.6)),Image.ANTIALIAS)\n",
    "\n",
    "print(img2_resize_result.size)\n",
    "\n",
    "#保存图片\n",
    "img2_resize_result.save('/home/aistudio/work/yushuxin_resize_result.jpg')\n",
    "\n",
    "#展示图片\n",
    "plt.imshow(img2_resize_result)  \n",
    "plt.show()   "
   ]
  },
  {
   "cell_type": "code",
   "execution_count": null,
   "metadata": {},
   "outputs": [],
   "source": [
    "from PIL import Image\n",
    "\n",
    "#打开图片\n",
    "img3 = Image.open('data/data37255/yushuxin.jpg') \n",
    "\n",
    "#左右镜像\n",
    "img3_lr = img3.transpose(Image.FLIP_LEFT_RIGHT)\n",
    "\n",
    "#展示左右镜像图片\n",
    "plt.imshow(img3_lr)  \n",
    "plt.show(img3_lr)   \n",
    "\n",
    "#上下镜像\n",
    "img3_bt = img3.transpose(Image.FLIP_TOP_BOTTOM)\n",
    "\n",
    "#展示上下镜像图片\n",
    "plt.imshow(img3_bt)  \n",
    "plt.show(img3_bt)  "
   ]
  },
  {
   "cell_type": "markdown",
   "metadata": {},
   "source": [
    "# Matplotlib库\n",
    "\n",
    "Matplotlib库由各种可视化类构成，内部结构复杂。\n",
    "\n",
    "matplotlib.pylot是绘制各类可视化图形的命令字库\n",
    "\n",
    "更多学习，可参考**Matplotlib中文网**：https://www.matplotlib.org.cn\n"
   ]
  },
  {
   "cell_type": "code",
   "execution_count": 28,
   "metadata": {},
   "outputs": [
    {
     "data": {
      "image/png": "[encoded data removed]",
      "text/plain": [
       "<Figure size 432x288 with 1 Axes>"
      ]
     },
     "metadata": {
      "needs_background": "light"
     },
     "output_type": "display_data"
    }
   ],
   "source": [
    "import matplotlib.pyplot as plt\n",
    "import numpy as np \n",
    "\n",
    "#显示matplotlib生成的图形\n",
    "%matplotlib inline\n",
    "\n",
    "x = np.linspace(-1,1,50) #等差数列\n",
    "y = 2*x + 1\n",
    "\n",
    "#传入x,y,通过plot()绘制出折线图 \n",
    "plt.plot(x,y)\n",
    "\n",
    "#显示图形\n",
    "plt.show()\n"
   ]
  },
  {
   "cell_type": "code",
   "execution_count": 29,
   "metadata": {},
   "outputs": [
    {
     "data": {
      "image/png": "[encoded data removed]",
      "text/plain": [
       "<Figure size 432x288 with 1 Axes>"
      ]
     },
     "metadata": {
      "needs_background": "light"
     },
     "output_type": "display_data"
    },
    {
     "data": {
      "image/png": "[encoded data removed]",
      "text/plain": [
       "<Figure size 504x360 with 1 Axes>"
      ]
     },
     "metadata": {
      "needs_background": "light"
     },
     "output_type": "display_data"
    }
   ],
   "source": [
    "import matplotlib.pyplot as plt\n",
    "import numpy as np \n",
    "\n",
    "x = np.linspace(-1,1,50) #等差数列\n",
    "y1 = 2*x + 1\n",
    "y2 = x**2\n",
    "\n",
    "plt.figure()\n",
    "plt.plot(x,y1)\n",
    "\n",
    "plt.figure(figsize=(7,5))\n",
    "plt.plot(x,y2)\n",
    "\n",
    "plt.show()\n",
    "\n"
   ]
  },
  {
   "cell_type": "code",
   "execution_count": 30,
   "metadata": {},
   "outputs": [
    {
     "data": {
      "image/png": "[encoded data removed]",
      "text/plain": [
       "<Figure size 504x360 with 1 Axes>"
      ]
     },
     "metadata": {
      "needs_background": "light"
     },
     "output_type": "display_data"
    }
   ],
   "source": [
    "import matplotlib.pyplot as plt\n",
    "import numpy as np \n",
    "\n",
    "plt.figure(figsize=(7,5))\n",
    "plt.plot(x,y1,color='red',linewidth=1)\n",
    "plt.plot(x,y2,color='blue',linewidth=5)\n",
    "plt.xlabel('x',fontsize=20)\n",
    "plt.ylabel('y',fontsize=20)\n",
    "plt.show()"
   ]
  },
  {
   "cell_type": "code",
   "execution_count": 31,
   "metadata": {},
   "outputs": [
    {
     "data": {
      "image/png": "[encoded data removed]",
      "text/plain": [
       "<Figure size 432x288 with 1 Axes>"
      ]
     },
     "metadata": {
      "needs_background": "light"
     },
     "output_type": "display_data"
    }
   ],
   "source": [
    "import matplotlib.pyplot as plt\n",
    "import numpy as np \n",
    "\n",
    "l1, = plt.plot(x,y1,color='red',linewidth=1)\n",
    "l2, = plt.plot(x,y2,color='blue',linewidth=5)\n",
    "plt.legend(handles=[l1,l2],labels=['aa','bb'],loc='best')\n",
    "plt.xlabel('x')\n",
    "plt.ylabel('y')\n",
    "# plt.xlim((0,1))  #x轴只截取一段进行显示\n",
    "# plt.ylim((0,1))  #y轴只截取一段进行显示\n",
    "plt.show()"
   ]
  },
  {
   "cell_type": "code",
   "execution_count": 32,
   "metadata": {},
   "outputs": [
    {
     "data": {
      "image/png": "[encoded data removed]",
      "text/plain": [
       "<Figure size 432x288 with 1 Axes>"
      ]
     },
     "metadata": {
      "needs_background": "light"
     },
     "output_type": "display_data"
    }
   ],
   "source": [
    "dots1 =np.random.rand(50)\n",
    "dots2 =np.random.rand(50)\n",
    "plt.scatter(dots1,dots2,c='red',alpha=0.5) #c表示颜色，alpha表示透明度\n",
    "plt.show()\n"
   ]
  },
  {
   "cell_type": "code",
   "execution_count": 33,
   "metadata": {},
   "outputs": [
    {
     "data": {
      "image/png": "[encoded data removed]",
      "text/plain": [
       "<Figure size 432x288 with 1 Axes>"
      ]
     },
     "metadata": {
      "needs_background": "light"
     },
     "output_type": "display_data"
    }
   ],
   "source": [
    "x = np.arange(10)\n",
    "y = 2**x+10\n",
    "plt.bar(x,y,facecolor='#9999ff',edgecolor='black')\n",
    "plt.show()"
   ]
  },
  {
   "cell_type": "code",
   "execution_count": 34,
   "metadata": {},
   "outputs": [
    {
     "data": {
      "image/png": "[encoded data removed]",
      "text/plain": [
       "<Figure size 432x288 with 1 Axes>"
      ]
     },
     "metadata": {
      "needs_background": "light"
     },
     "output_type": "display_data"
    }
   ],
   "source": [
    "x = np.arange(10)\n",
    "y = 2**x+10\n",
    "plt.bar(x,y,facecolor='#9999ff',edgecolor='white')\n",
    "for ax,ay in zip(x,y):\n",
    "    #设置文字说明 第一、二个参数：坐标轴上的值； 第三个参数：说明文字；ha:垂直对齐方式；va：水平对齐方式\n",
    "    plt.text(ax,ay,'%.1f' % ay,ha='center',va='top')\n",
    "plt.show()"
   ]
  }
 ],
 "metadata": {
  "interpreter": {
   "hash": "cd8ad8c6c9a6102c85c433cb5f5458e8b74f14e2a8e2b09b11f3258ecf64eb0c"
  },
  "kernelspec": {
   "display_name": "Python 3.6.13 ('tf2')",
   "language": "python",
   "name": "python3"
  },
  "language_info": {
   "codemirror_mode": {
    "name": "ipython",
    "version": 3
   },
   "file_extension": ".py",
   "mimetype": "text/x-python",
   "name": "python",
   "nbconvert_exporter": "python",
   "pygments_lexer": "ipython3",
   "version": "3.6.13"
  },
  "orig_nbformat": 4
 },
 "nbformat": 4,
 "nbformat_minor": 2
}
