{
 "cells": [
  {
   "cell_type": "markdown",
   "metadata": {},
   "source": [
    "## 1.数组创建\n",
    "\n",
    "可以使用array函数从常规Python**列表或元组**中创建数组。得到的数组的类型是从Python列表中元素的类型推导出来的。\n",
    "\n",
    "创建数组最简单的办法就是使用array函数。它接受一切序列型的对象（包括其他数组），然后产生一个新的含有传入数据的numpy数组。其中，嵌套序列（比如由一组等长列表组成的列表）将会被转换为一个多维数组"
   ]
  },
  {
   "cell_type": "code",
   "execution_count": 1,
   "metadata": {},
   "outputs": [
    {
     "name": "stdout",
     "output_type": "stream",
     "text": [
      "[[1 2 3]\n",
      " [4 5 6]]\n"
     ]
    }
   ],
   "source": [
    "import numpy as np\n",
    "\n",
    "#将列表转换为数组\n",
    "array = np.array([[1,2,3],\n",
    "                 [4,5,6]])\n",
    "print(array)"
   ]
  },
  {
   "cell_type": "code",
   "execution_count": 2,
   "metadata": {},
   "outputs": [
    {
     "name": "stdout",
     "output_type": "stream",
     "text": [
      "[[1 2 3]\n",
      " [4 5 6]]\n"
     ]
    }
   ],
   "source": [
    "import numpy as np\n",
    "\n",
    "#将元组转换为数组\n",
    "array = np.array(((1,2,3),\n",
    "                 (4,5,6)))\n",
    "print(array)"
   ]
  },
  {
   "cell_type": "code",
   "execution_count": 3,
   "metadata": {},
   "outputs": [
    {
     "name": "stdout",
     "output_type": "stream",
     "text": [
      "[1 2 3 4]\n"
     ]
    }
   ],
   "source": [
    "import numpy as np\n",
    "\n",
    "a = np.array((1,2,3,4)) \n",
    "print(a)"
   ]
  },
  {
   "cell_type": "code",
   "execution_count": 4,
   "metadata": {},
   "outputs": [
    {
     "name": "stdout",
     "output_type": "stream",
     "text": [
      "[10 16 22 28]\n"
     ]
    }
   ],
   "source": [
    "array = np.arange( 10, 31, 6 )\n",
    "print(array)"
   ]
  },
  {
   "cell_type": "code",
   "execution_count": 5,
   "metadata": {},
   "outputs": [
    {
     "name": "stdout",
     "output_type": "stream",
     "text": [
      "[3 4 5]\n"
     ]
    }
   ],
   "source": [
    "array =  np.arange(3,6)\n",
    "print(array)"
   ]
  },
  {
   "cell_type": "code",
   "execution_count": 6,
   "metadata": {},
   "outputs": [
    {
     "name": "stdout",
     "output_type": "stream",
     "text": [
      "[[ 1  2  3]\n",
      " [ 4  5  6]\n",
      " [ 7  8  9]\n",
      " [10 11 12]]\n",
      "2\n",
      "(4, 3)\n",
      "12\n",
      "int32\n"
     ]
    }
   ],
   "source": [
    "\n",
    "array = np.array([[1,2,3],[4,5,6],[7,8,9],[10,11,12]])\n",
    "print(array)\n",
    "#数组维度\n",
    "print(array.ndim)\n",
    "#数组形状\n",
    "print(array.shape)\n",
    "#数组元素个数\n",
    "print(array.size)\n",
    "#数组元素类型\n",
    "print(array.dtype)"
   ]
  },
  {
   "cell_type": "code",
   "execution_count": 7,
   "metadata": {},
   "outputs": [
    {
     "name": "stdout",
     "output_type": "stream",
     "text": [
      "[[0 1 2]\n",
      " [3 4 5]]\n",
      "[[1 2]\n",
      " [3 4]\n",
      " [5 6]]\n"
     ]
    }
   ],
   "source": [
    "\n",
    "array1 = np.arange(6).reshape([2,3])\n",
    "print(array1)\n",
    "\n",
    "array2 = np.array([[1,2,3],[4,5,6]],dtype=np.int64).reshape([3,2])\n",
    "print(array2)\n"
   ]
  },
  {
   "cell_type": "markdown",
   "metadata": {},
   "source": [
    "## 2.数组的计算\n",
    "\n",
    "数组很重要，因为它可以使我们不用编写循环即可对数据执行批量运算。这通常叫做矢量化（vectorization）。\n",
    "\n",
    "**大小相等的数组之间的任何算术运算都会将运算应用到元素级**。同样，数组与标量的算术运算也会将那个标量值传播到各个元素.\n"
   ]
  },
  {
   "cell_type": "code",
   "execution_count": 8,
   "metadata": {},
   "outputs": [
    {
     "name": "stdout",
     "output_type": "stream",
     "text": [
      "[[2 3 4]\n",
      " [5 6 7]]\n",
      "[[0 1 2]\n",
      " [3 4 5]]\n",
      "[[1 2 3]\n",
      " [4 5 6]]\n",
      "[[1. 2. 3.]\n",
      " [4. 5. 6.]]\n",
      "[[ 1  4  9]\n",
      " [16 25 36]]\n"
     ]
    }
   ],
   "source": [
    "\n",
    "arr1 = np.array([[1,2,3],[4,5,6]])\n",
    "arr2 = np.ones([2,3],dtype=np.int64)\n",
    "\n",
    "print(arr1 + arr2)\n",
    "print(arr1 - arr2)\n",
    "print(arr1 * arr2)\n",
    "print(arr1 / arr2)\n",
    "print(arr1 ** 2)\n"
   ]
  },
  {
   "cell_type": "code",
   "execution_count": 9,
   "metadata": {},
   "outputs": [
    {
     "name": "stdout",
     "output_type": "stream",
     "text": [
      "[[1 2 3]\n",
      " [4 5 6]]\n",
      "[[1 1]\n",
      " [1 1]\n",
      " [1 1]]\n",
      "[[ 6  6]\n",
      " [15 15]]\n"
     ]
    }
   ],
   "source": [
    "#矩阵乘法\n",
    "arr3 = np.array([[1,2,3],[4,5,6]])\n",
    "arr4 = np.ones([3,2],dtype=np.int64)\n",
    "print(arr3)\n",
    "print(arr4)\n",
    "print(np.dot(arr3,arr4))"
   ]
  },
  {
   "cell_type": "code",
   "execution_count": 10,
   "metadata": {},
   "outputs": [
    {
     "name": "stdout",
     "output_type": "stream",
     "text": [
      "[[1 2 3]\n",
      " [4 5 6]]\n",
      "[ 6 15]\n",
      "6\n",
      "1\n",
      "3.5\n",
      "5\n",
      "0\n"
     ]
    }
   ],
   "source": [
    "print(arr3)\n",
    "print(np.sum(arr3,axis=1)) #axis=1,每一行求和 axie=0,每一列求和\n",
    "print(np.max(arr3))\n",
    "print(np.min(arr3))\n",
    "print(np.mean(arr3))\n",
    "print(np.argmax(arr3))\n",
    "print(np.argmin(arr3))"
   ]
  },
  {
   "cell_type": "code",
   "execution_count": 11,
   "metadata": {},
   "outputs": [
    {
     "name": "stdout",
     "output_type": "stream",
     "text": [
      "[[1 4]\n",
      " [2 5]\n",
      " [3 6]]\n",
      "[1 2 3 4 5 6]\n"
     ]
    }
   ],
   "source": [
    "arr3_tran = arr3.transpose()\n",
    "print(arr3_tran)\n",
    "\n",
    "print(arr3.flatten())"
   ]
  },
  {
   "cell_type": "markdown",
   "metadata": {},
   "source": [
    "## 3.数组的索引与切片"
   ]
  },
  {
   "cell_type": "code",
   "execution_count": null,
   "metadata": {},
   "outputs": [],
   "source": [
    "arr5 = np.arange(0,6).reshape([2,3])\n",
    "print(arr5)\n",
    "print(arr5[1])\n",
    "print(arr5[1][2])\n",
    "\n",
    "print(arr5[1,2])\n",
    "\n",
    "print(arr5[1,:])\n",
    "print(arr5[:,1])\n",
    "print(arr5[1,0:2])"
   ]
  },
  {
   "cell_type": "markdown",
   "metadata": {},
   "source": [
    "# Pandas库\n",
    "\n",
    "pandas是python第三方库，提供高性能易用数据类型和分析工具。\n",
    "\n",
    "pandas基于numpy实现，常与numpy和matplotlib一同使用\n",
    "\n",
    "更多学习，请参考**pandas中文网**：https://www.pypandas.cn/\n",
    "\n"
   ]
  },
  {
   "cell_type": "markdown",
   "metadata": {},
   "source": [
    "## 1.Series\n",
    "\n",
    "Series是一种类似于一维数组的对象，它由一维数组（各种numpy数据类型）以及一组与之相关的数据标签（即索引）组成.\n",
    "\n",
    "可理解为带标签的一维数组，可存储整数、浮点数、字符串、Python 对象等类型的数据。"
   ]
  },
  {
   "cell_type": "code",
   "execution_count": 12,
   "metadata": {},
   "outputs": [
    {
     "name": "stdout",
     "output_type": "stream",
     "text": [
      "0    a\n",
      "1    b\n",
      "2    c\n",
      "3    d\n",
      "4    e\n",
      "dtype: object\n"
     ]
    }
   ],
   "source": [
    "import pandas as pd\n",
    "import numpy as np\n",
    "\n",
    "s = pd.Series(['a','b','c','d','e'])\n",
    "print(s)"
   ]
  },
  {
   "cell_type": "code",
   "execution_count": null,
   "metadata": {},
   "outputs": [],
   "source": [
    "#与字典不同的是：Series允许索引重复\n",
    "s = pd.Series(['a','b','c','d','e'],index=[100,200,100,400,500])\n",
    "print(s)\n"
   ]
  }
 ],
 "metadata": {
  "interpreter": {
   "hash": "cd8ad8c6c9a6102c85c433cb5f5458e8b74f14e2a8e2b09b11f3258ecf64eb0c"
  },
  "kernelspec": {
   "display_name": "Python 3.6.13 ('tf2')",
   "language": "python",
   "name": "python3"
  },
  "language_info": {
   "codemirror_mode": {
    "name": "ipython",
    "version": 3
   },
   "file_extension": ".py",
   "mimetype": "text/x-python",
   "name": "python",
   "nbconvert_exporter": "python",
   "pygments_lexer": "ipython3",
   "version": "3.6.13"
  },
  "orig_nbformat": 4
 },
 "nbformat": 4,
 "nbformat_minor": 2
}
